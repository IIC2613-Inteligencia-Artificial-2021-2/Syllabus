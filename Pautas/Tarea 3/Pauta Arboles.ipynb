{
 "cells": [
  {
   "cell_type": "markdown",
   "id": "99a6eaa6",
   "metadata": {
    "id": "99a6eaa6"
   },
   "source": [
    "## Imports"
   ]
  },
  {
   "cell_type": "code",
   "execution_count": 24,
   "id": "65fddd68",
   "metadata": {
    "id": "65fddd68"
   },
   "outputs": [],
   "source": [
    "import pandas as pd\n",
    "import matplotlib.pyplot as plt\n",
    "import seaborn as sns\n",
    "import numpy as np\n",
    "\n",
    "from sklearn.tree import DecisionTreeClassifier\n",
    "from sklearn.ensemble import RandomForestClassifier\n",
    "from sklearn.model_selection import cross_val_score, train_test_split\n",
    "from sklearn.preprocessing import LabelEncoder\n",
    "from sklearn.metrics import plot_confusion_matrix, accuracy_score, precision_score, recall_score"
   ]
  },
  {
   "cell_type": "code",
   "execution_count": 25,
   "id": "883886fe",
   "metadata": {},
   "outputs": [],
   "source": [
    "# Seteamos la seed\n",
    "import random\n",
    "\n",
    "random.seed(12121212)\n",
    "np.random.seed(12121212)"
   ]
  },
  {
   "cell_type": "markdown",
   "id": "b1dbaa9c",
   "metadata": {
    "id": "b1dbaa9c"
   },
   "source": [
    "## Actividad 1\n",
    "\n"
   ]
  },
  {
   "cell_type": "markdown",
   "id": "06fa868e",
   "metadata": {},
   "source": [
    "En primer lugar, leemos el *dataset* y creamos el *dataframe*:"
   ]
  },
  {
   "cell_type": "code",
   "execution_count": 26,
   "id": "20ec03f5",
   "metadata": {
    "colab": {
     "base_uri": "https://localhost:8080/",
     "height": 203
    },
    "id": "20ec03f5",
    "outputId": "ab34797f-4746-40b0-842f-a8b80f9ffb82"
   },
   "outputs": [
    {
     "data": {
      "text/html": [
       "<div>\n",
       "<style scoped>\n",
       "    .dataframe tbody tr th:only-of-type {\n",
       "        vertical-align: middle;\n",
       "    }\n",
       "\n",
       "    .dataframe tbody tr th {\n",
       "        vertical-align: top;\n",
       "    }\n",
       "\n",
       "    .dataframe thead th {\n",
       "        text-align: right;\n",
       "    }\n",
       "</style>\n",
       "<table border=\"1\" class=\"dataframe\">\n",
       "  <thead>\n",
       "    <tr style=\"text-align: right;\">\n",
       "      <th></th>\n",
       "      <th>Date</th>\n",
       "      <th>Customers</th>\n",
       "      <th>Customers Thousands</th>\n",
       "      <th>Open</th>\n",
       "      <th>Closed</th>\n",
       "      <th>Promo</th>\n",
       "      <th>Store</th>\n",
       "      <th>StateHoliday</th>\n",
       "      <th>SchoolHoliday</th>\n",
       "      <th>DayOfWeek</th>\n",
       "      <th>Sales</th>\n",
       "    </tr>\n",
       "  </thead>\n",
       "  <tbody>\n",
       "    <tr>\n",
       "      <th>0</th>\n",
       "      <td>2015-02-25</td>\n",
       "      <td>616.0</td>\n",
       "      <td>0.616</td>\n",
       "      <td>YES</td>\n",
       "      <td>NO</td>\n",
       "      <td>0.0</td>\n",
       "      <td>340.0</td>\n",
       "      <td>0</td>\n",
       "      <td>NO</td>\n",
       "      <td>3.0</td>\n",
       "      <td>4923.0</td>\n",
       "    </tr>\n",
       "    <tr>\n",
       "      <th>1</th>\n",
       "      <td>2014-05-08</td>\n",
       "      <td>476.0</td>\n",
       "      <td>0.476</td>\n",
       "      <td>YES</td>\n",
       "      <td>NO</td>\n",
       "      <td>1.0</td>\n",
       "      <td>1013.0</td>\n",
       "      <td>0</td>\n",
       "      <td>NO</td>\n",
       "      <td>4.0</td>\n",
       "      <td>4562.0</td>\n",
       "    </tr>\n",
       "    <tr>\n",
       "      <th>2</th>\n",
       "      <td>2013-02-27</td>\n",
       "      <td>635.0</td>\n",
       "      <td>0.635</td>\n",
       "      <td>YES</td>\n",
       "      <td>NO</td>\n",
       "      <td>0.0</td>\n",
       "      <td>588.0</td>\n",
       "      <td>0</td>\n",
       "      <td>NO</td>\n",
       "      <td>3.0</td>\n",
       "      <td>5293.0</td>\n",
       "    </tr>\n",
       "    <tr>\n",
       "      <th>3</th>\n",
       "      <td>2014-04-30</td>\n",
       "      <td>1581.0</td>\n",
       "      <td>1.581</td>\n",
       "      <td>YES</td>\n",
       "      <td>NO</td>\n",
       "      <td>1.0</td>\n",
       "      <td>344.0</td>\n",
       "      <td>0</td>\n",
       "      <td>YES</td>\n",
       "      <td>3.0</td>\n",
       "      <td>12667.0</td>\n",
       "    </tr>\n",
       "    <tr>\n",
       "      <th>4</th>\n",
       "      <td>2013-05-13</td>\n",
       "      <td>595.0</td>\n",
       "      <td>0.595</td>\n",
       "      <td>YES</td>\n",
       "      <td>NO</td>\n",
       "      <td>1.0</td>\n",
       "      <td>766.0</td>\n",
       "      <td>0</td>\n",
       "      <td>NO</td>\n",
       "      <td>1.0</td>\n",
       "      <td>7529.0</td>\n",
       "    </tr>\n",
       "  </tbody>\n",
       "</table>\n",
       "</div>"
      ],
      "text/plain": [
       "         Date  Customers  Customers Thousands Open Closed  Promo   Store  \\\n",
       "0  2015-02-25      616.0                0.616  YES     NO    0.0   340.0   \n",
       "1  2014-05-08      476.0                0.476  YES     NO    1.0  1013.0   \n",
       "2  2013-02-27      635.0                0.635  YES     NO    0.0   588.0   \n",
       "3  2014-04-30     1581.0                1.581  YES     NO    1.0   344.0   \n",
       "4  2013-05-13      595.0                0.595  YES     NO    1.0   766.0   \n",
       "\n",
       "  StateHoliday SchoolHoliday  DayOfWeek    Sales  \n",
       "0            0            NO        3.0   4923.0  \n",
       "1            0            NO        4.0   4562.0  \n",
       "2            0            NO        3.0   5293.0  \n",
       "3            0           YES        3.0  12667.0  \n",
       "4            0            NO        1.0   7529.0  "
      ]
     },
     "execution_count": 26,
     "metadata": {},
     "output_type": "execute_result"
    }
   ],
   "source": [
    "data = pd.read_csv('data.csv')\n",
    "data.head()"
   ]
  },
  {
   "cell_type": "markdown",
   "id": "fbaa5984",
   "metadata": {},
   "source": [
    "Lo primero que haremos, será eliminar columnas que presenten información redundante. En particular, las columnas ```Customers Thousands```, ```Closed``` e ```Index``` no tienen ninguna información que podamos considerar valiosa o nueva, ya que la primera tiene la misma información que ```Customers``` (pero ponderada x1000); la segunda tiene la misma información que ```Open``` (pero con el valor de verdad invertido).\n",
    "\n",
    "La columna ```Store``` **no debe considerarse**, ya que es muy propensa a generar *overfitting*, ya que se trata de un identificador único de cada tienda, pero nosotros queremos generalizar el problema. Evidentemente, habrán tiendas con muy altas ventas, pero no queremos saberlo por su ID, sino que por otras características."
   ]
  },
  {
   "cell_type": "code",
   "execution_count": 27,
   "id": "a0a74370",
   "metadata": {
    "id": "a0a74370"
   },
   "outputs": [],
   "source": [
    "data.drop(['Customers Thousands', 'Closed', 'Store'], axis=1, inplace=True)"
   ]
  },
  {
   "cell_type": "markdown",
   "id": "8bddd3f8",
   "metadata": {},
   "source": [
    "Con respecto a la columna ```Date``` se pueden hacer múltiples acercamientos:\n",
    "* Se puede eliminar, justificando correctamente el motivo, aunque se puede tener una pérdida de información valiosa.\n",
    "\n",
    "* Lo que haremos nosotros: rescataremos únicamente el mes de la fecha, ya que los días que puedan ser más relevantes ya los tenemos en columnas como ```StateHoliday```, pero hay meses en los que las ventas pueden ser notablemente más altas que en otros:"
   ]
  },
  {
   "cell_type": "code",
   "execution_count": 28,
   "id": "23982341",
   "metadata": {},
   "outputs": [
    {
     "name": "stdout",
     "output_type": "stream",
     "text": [
      "> Tipos de datos antes de los cambios:\n",
      "Date              object\n",
      "Customers        float64\n",
      "Open              object\n",
      "Promo            float64\n",
      "StateHoliday      object\n",
      "SchoolHoliday     object\n",
      "DayOfWeek        float64\n",
      "Sales            float64\n",
      "dtype: object\n",
      "------------------------------------------------------------\n",
      "> Tipos de datos después de los cambios:\n",
      "Date             float64\n",
      "Customers        float64\n",
      "Open              object\n",
      "Promo            float64\n",
      "StateHoliday      object\n",
      "SchoolHoliday     object\n",
      "DayOfWeek        float64\n",
      "Sales            float64\n",
      "dtype: object\n"
     ]
    },
    {
     "data": {
      "text/html": [
       "<div>\n",
       "<style scoped>\n",
       "    .dataframe tbody tr th:only-of-type {\n",
       "        vertical-align: middle;\n",
       "    }\n",
       "\n",
       "    .dataframe tbody tr th {\n",
       "        vertical-align: top;\n",
       "    }\n",
       "\n",
       "    .dataframe thead th {\n",
       "        text-align: right;\n",
       "    }\n",
       "</style>\n",
       "<table border=\"1\" class=\"dataframe\">\n",
       "  <thead>\n",
       "    <tr style=\"text-align: right;\">\n",
       "      <th></th>\n",
       "      <th>Date</th>\n",
       "      <th>Customers</th>\n",
       "      <th>Open</th>\n",
       "      <th>Promo</th>\n",
       "      <th>StateHoliday</th>\n",
       "      <th>SchoolHoliday</th>\n",
       "      <th>DayOfWeek</th>\n",
       "      <th>Sales</th>\n",
       "    </tr>\n",
       "  </thead>\n",
       "  <tbody>\n",
       "    <tr>\n",
       "      <th>0</th>\n",
       "      <td>2.0</td>\n",
       "      <td>616.0</td>\n",
       "      <td>YES</td>\n",
       "      <td>0.0</td>\n",
       "      <td>0</td>\n",
       "      <td>NO</td>\n",
       "      <td>3.0</td>\n",
       "      <td>4923.0</td>\n",
       "    </tr>\n",
       "    <tr>\n",
       "      <th>1</th>\n",
       "      <td>5.0</td>\n",
       "      <td>476.0</td>\n",
       "      <td>YES</td>\n",
       "      <td>1.0</td>\n",
       "      <td>0</td>\n",
       "      <td>NO</td>\n",
       "      <td>4.0</td>\n",
       "      <td>4562.0</td>\n",
       "    </tr>\n",
       "    <tr>\n",
       "      <th>2</th>\n",
       "      <td>2.0</td>\n",
       "      <td>635.0</td>\n",
       "      <td>YES</td>\n",
       "      <td>0.0</td>\n",
       "      <td>0</td>\n",
       "      <td>NO</td>\n",
       "      <td>3.0</td>\n",
       "      <td>5293.0</td>\n",
       "    </tr>\n",
       "    <tr>\n",
       "      <th>3</th>\n",
       "      <td>4.0</td>\n",
       "      <td>1581.0</td>\n",
       "      <td>YES</td>\n",
       "      <td>1.0</td>\n",
       "      <td>0</td>\n",
       "      <td>YES</td>\n",
       "      <td>3.0</td>\n",
       "      <td>12667.0</td>\n",
       "    </tr>\n",
       "    <tr>\n",
       "      <th>4</th>\n",
       "      <td>5.0</td>\n",
       "      <td>595.0</td>\n",
       "      <td>YES</td>\n",
       "      <td>1.0</td>\n",
       "      <td>0</td>\n",
       "      <td>NO</td>\n",
       "      <td>1.0</td>\n",
       "      <td>7529.0</td>\n",
       "    </tr>\n",
       "    <tr>\n",
       "      <th>...</th>\n",
       "      <td>...</td>\n",
       "      <td>...</td>\n",
       "      <td>...</td>\n",
       "      <td>...</td>\n",
       "      <td>...</td>\n",
       "      <td>...</td>\n",
       "      <td>...</td>\n",
       "      <td>...</td>\n",
       "    </tr>\n",
       "    <tr>\n",
       "      <th>99995</th>\n",
       "      <td>2.0</td>\n",
       "      <td>888.0</td>\n",
       "      <td>YES</td>\n",
       "      <td>0.0</td>\n",
       "      <td>0</td>\n",
       "      <td>NO</td>\n",
       "      <td>5.0</td>\n",
       "      <td>10100.0</td>\n",
       "    </tr>\n",
       "    <tr>\n",
       "      <th>99996</th>\n",
       "      <td>8.0</td>\n",
       "      <td>0.0</td>\n",
       "      <td>NO</td>\n",
       "      <td>0.0</td>\n",
       "      <td>0</td>\n",
       "      <td>YES</td>\n",
       "      <td>7.0</td>\n",
       "      <td>0.0</td>\n",
       "    </tr>\n",
       "    <tr>\n",
       "      <th>99997</th>\n",
       "      <td>2.0</td>\n",
       "      <td>818.0</td>\n",
       "      <td>YES</td>\n",
       "      <td>1.0</td>\n",
       "      <td>0</td>\n",
       "      <td>YES</td>\n",
       "      <td>1.0</td>\n",
       "      <td>7920.0</td>\n",
       "    </tr>\n",
       "    <tr>\n",
       "      <th>99998</th>\n",
       "      <td>2.0</td>\n",
       "      <td>592.0</td>\n",
       "      <td>YES</td>\n",
       "      <td>1.0</td>\n",
       "      <td>0</td>\n",
       "      <td>NO</td>\n",
       "      <td>4.0</td>\n",
       "      <td>8517.0</td>\n",
       "    </tr>\n",
       "    <tr>\n",
       "      <th>99999</th>\n",
       "      <td>3.0</td>\n",
       "      <td>1137.0</td>\n",
       "      <td>YES</td>\n",
       "      <td>1.0</td>\n",
       "      <td>0</td>\n",
       "      <td>NO</td>\n",
       "      <td>5.0</td>\n",
       "      <td>8451.0</td>\n",
       "    </tr>\n",
       "  </tbody>\n",
       "</table>\n",
       "<p>100000 rows × 8 columns</p>\n",
       "</div>"
      ],
      "text/plain": [
       "       Date  Customers Open  Promo StateHoliday SchoolHoliday  DayOfWeek  \\\n",
       "0       2.0      616.0  YES    0.0            0            NO        3.0   \n",
       "1       5.0      476.0  YES    1.0            0            NO        4.0   \n",
       "2       2.0      635.0  YES    0.0            0            NO        3.0   \n",
       "3       4.0     1581.0  YES    1.0            0           YES        3.0   \n",
       "4       5.0      595.0  YES    1.0            0            NO        1.0   \n",
       "...     ...        ...  ...    ...          ...           ...        ...   \n",
       "99995   2.0      888.0  YES    0.0            0            NO        5.0   \n",
       "99996   8.0        0.0   NO    0.0            0           YES        7.0   \n",
       "99997   2.0      818.0  YES    1.0            0           YES        1.0   \n",
       "99998   2.0      592.0  YES    1.0            0            NO        4.0   \n",
       "99999   3.0     1137.0  YES    1.0            0            NO        5.0   \n",
       "\n",
       "         Sales  \n",
       "0       4923.0  \n",
       "1       4562.0  \n",
       "2       5293.0  \n",
       "3      12667.0  \n",
       "4       7529.0  \n",
       "...        ...  \n",
       "99995  10100.0  \n",
       "99996      0.0  \n",
       "99997   7920.0  \n",
       "99998   8517.0  \n",
       "99999   8451.0  \n",
       "\n",
       "[100000 rows x 8 columns]"
      ]
     },
     "metadata": {},
     "output_type": "display_data"
    }
   ],
   "source": [
    "# Mostramos los tipos de datos antes de los cambios\n",
    "print('> Tipos de datos antes de los cambios:')\n",
    "print(data.dtypes, end = '\\n' + '-' * 60 + '\\n')\n",
    "\n",
    "# Convertimos 'StateHoliday' a str y 'Date' a datetime y conservamos únicamente el mes:\n",
    "data['StateHoliday'] = data['StateHoliday'].astype(str)\n",
    "data['Date'] = pd.to_datetime(data[\"Date\"], format='%Y-%m-%d').dt.month\n",
    "\n",
    "print('> Tipos de datos después de los cambios:')\n",
    "print(data.dtypes)\n",
    "\n",
    "# Mostramos el dataset\n",
    "display(data)"
   ]
  },
  {
   "cell_type": "markdown",
   "id": "cdb17d9b",
   "metadata": {},
   "source": [
    "Ahora, queremos saber si es que hay registros con valores nulos:"
   ]
  },
  {
   "cell_type": "code",
   "execution_count": 29,
   "id": "dfcc5e67",
   "metadata": {},
   "outputs": [
    {
     "data": {
      "text/plain": [
       "True"
      ]
     },
     "execution_count": 29,
     "metadata": {},
     "output_type": "execute_result"
    }
   ],
   "source": [
    "data.isnull().values.any()"
   ]
  },
  {
   "cell_type": "markdown",
   "id": "d26785f0",
   "metadata": {},
   "source": [
    "Para el tratamiento de nulos, dada la poca cantidad de registros con estas características, podemos aceptar como acercamiento válido el simplemente eliminarlos:"
   ]
  },
  {
   "cell_type": "code",
   "execution_count": 30,
   "id": "abdab7d2",
   "metadata": {
    "colab": {
     "base_uri": "https://localhost:8080/"
    },
    "id": "abdab7d2",
    "outputId": "fca45a7c-2b5a-4772-fc78-bbc14c3dd258"
   },
   "outputs": [
    {
     "data": {
      "text/html": [
       "<div>\n",
       "<style scoped>\n",
       "    .dataframe tbody tr th:only-of-type {\n",
       "        vertical-align: middle;\n",
       "    }\n",
       "\n",
       "    .dataframe tbody tr th {\n",
       "        vertical-align: top;\n",
       "    }\n",
       "\n",
       "    .dataframe thead th {\n",
       "        text-align: right;\n",
       "    }\n",
       "</style>\n",
       "<table border=\"1\" class=\"dataframe\">\n",
       "  <thead>\n",
       "    <tr style=\"text-align: right;\">\n",
       "      <th></th>\n",
       "      <th>Date</th>\n",
       "      <th>Customers</th>\n",
       "      <th>Open</th>\n",
       "      <th>Promo</th>\n",
       "      <th>StateHoliday</th>\n",
       "      <th>SchoolHoliday</th>\n",
       "      <th>DayOfWeek</th>\n",
       "      <th>Sales</th>\n",
       "    </tr>\n",
       "  </thead>\n",
       "  <tbody>\n",
       "    <tr>\n",
       "      <th>0</th>\n",
       "      <td>2.0</td>\n",
       "      <td>616.0</td>\n",
       "      <td>YES</td>\n",
       "      <td>0.0</td>\n",
       "      <td>0</td>\n",
       "      <td>NO</td>\n",
       "      <td>3.0</td>\n",
       "      <td>4923.0</td>\n",
       "    </tr>\n",
       "    <tr>\n",
       "      <th>1</th>\n",
       "      <td>5.0</td>\n",
       "      <td>476.0</td>\n",
       "      <td>YES</td>\n",
       "      <td>1.0</td>\n",
       "      <td>0</td>\n",
       "      <td>NO</td>\n",
       "      <td>4.0</td>\n",
       "      <td>4562.0</td>\n",
       "    </tr>\n",
       "    <tr>\n",
       "      <th>2</th>\n",
       "      <td>2.0</td>\n",
       "      <td>635.0</td>\n",
       "      <td>YES</td>\n",
       "      <td>0.0</td>\n",
       "      <td>0</td>\n",
       "      <td>NO</td>\n",
       "      <td>3.0</td>\n",
       "      <td>5293.0</td>\n",
       "    </tr>\n",
       "    <tr>\n",
       "      <th>3</th>\n",
       "      <td>4.0</td>\n",
       "      <td>1581.0</td>\n",
       "      <td>YES</td>\n",
       "      <td>1.0</td>\n",
       "      <td>0</td>\n",
       "      <td>YES</td>\n",
       "      <td>3.0</td>\n",
       "      <td>12667.0</td>\n",
       "    </tr>\n",
       "    <tr>\n",
       "      <th>4</th>\n",
       "      <td>5.0</td>\n",
       "      <td>595.0</td>\n",
       "      <td>YES</td>\n",
       "      <td>1.0</td>\n",
       "      <td>0</td>\n",
       "      <td>NO</td>\n",
       "      <td>1.0</td>\n",
       "      <td>7529.0</td>\n",
       "    </tr>\n",
       "    <tr>\n",
       "      <th>...</th>\n",
       "      <td>...</td>\n",
       "      <td>...</td>\n",
       "      <td>...</td>\n",
       "      <td>...</td>\n",
       "      <td>...</td>\n",
       "      <td>...</td>\n",
       "      <td>...</td>\n",
       "      <td>...</td>\n",
       "    </tr>\n",
       "    <tr>\n",
       "      <th>99995</th>\n",
       "      <td>2.0</td>\n",
       "      <td>888.0</td>\n",
       "      <td>YES</td>\n",
       "      <td>0.0</td>\n",
       "      <td>0</td>\n",
       "      <td>NO</td>\n",
       "      <td>5.0</td>\n",
       "      <td>10100.0</td>\n",
       "    </tr>\n",
       "    <tr>\n",
       "      <th>99996</th>\n",
       "      <td>8.0</td>\n",
       "      <td>0.0</td>\n",
       "      <td>NO</td>\n",
       "      <td>0.0</td>\n",
       "      <td>0</td>\n",
       "      <td>YES</td>\n",
       "      <td>7.0</td>\n",
       "      <td>0.0</td>\n",
       "    </tr>\n",
       "    <tr>\n",
       "      <th>99997</th>\n",
       "      <td>2.0</td>\n",
       "      <td>818.0</td>\n",
       "      <td>YES</td>\n",
       "      <td>1.0</td>\n",
       "      <td>0</td>\n",
       "      <td>YES</td>\n",
       "      <td>1.0</td>\n",
       "      <td>7920.0</td>\n",
       "    </tr>\n",
       "    <tr>\n",
       "      <th>99998</th>\n",
       "      <td>2.0</td>\n",
       "      <td>592.0</td>\n",
       "      <td>YES</td>\n",
       "      <td>1.0</td>\n",
       "      <td>0</td>\n",
       "      <td>NO</td>\n",
       "      <td>4.0</td>\n",
       "      <td>8517.0</td>\n",
       "    </tr>\n",
       "    <tr>\n",
       "      <th>99999</th>\n",
       "      <td>3.0</td>\n",
       "      <td>1137.0</td>\n",
       "      <td>YES</td>\n",
       "      <td>1.0</td>\n",
       "      <td>0</td>\n",
       "      <td>NO</td>\n",
       "      <td>5.0</td>\n",
       "      <td>8451.0</td>\n",
       "    </tr>\n",
       "  </tbody>\n",
       "</table>\n",
       "<p>99999 rows × 8 columns</p>\n",
       "</div>"
      ],
      "text/plain": [
       "       Date  Customers Open  Promo StateHoliday SchoolHoliday  DayOfWeek  \\\n",
       "0       2.0      616.0  YES    0.0            0            NO        3.0   \n",
       "1       5.0      476.0  YES    1.0            0            NO        4.0   \n",
       "2       2.0      635.0  YES    0.0            0            NO        3.0   \n",
       "3       4.0     1581.0  YES    1.0            0           YES        3.0   \n",
       "4       5.0      595.0  YES    1.0            0            NO        1.0   \n",
       "...     ...        ...  ...    ...          ...           ...        ...   \n",
       "99995   2.0      888.0  YES    0.0            0            NO        5.0   \n",
       "99996   8.0        0.0   NO    0.0            0           YES        7.0   \n",
       "99997   2.0      818.0  YES    1.0            0           YES        1.0   \n",
       "99998   2.0      592.0  YES    1.0            0            NO        4.0   \n",
       "99999   3.0     1137.0  YES    1.0            0            NO        5.0   \n",
       "\n",
       "         Sales  \n",
       "0       4923.0  \n",
       "1       4562.0  \n",
       "2       5293.0  \n",
       "3      12667.0  \n",
       "4       7529.0  \n",
       "...        ...  \n",
       "99995  10100.0  \n",
       "99996      0.0  \n",
       "99997   7920.0  \n",
       "99998   8517.0  \n",
       "99999   8451.0  \n",
       "\n",
       "[99999 rows x 8 columns]"
      ]
     },
     "metadata": {},
     "output_type": "display_data"
    }
   ],
   "source": [
    "data = data.dropna()\n",
    "display(data)"
   ]
  },
  {
   "cell_type": "markdown",
   "id": "f1f703bf",
   "metadata": {},
   "source": [
    "Para almacenar los datos de mejor manera, cambiaremos las columnas que sabemos que son enteros en vez de *floats* (no es estrictamente necesario):"
   ]
  },
  {
   "cell_type": "code",
   "execution_count": 31,
   "id": "0be02497",
   "metadata": {
    "colab": {
     "base_uri": "https://localhost:8080/",
     "height": 203
    },
    "id": "0be02497",
    "outputId": "9d2521c7-3cf8-461a-b350-a1a805095bac"
   },
   "outputs": [
    {
     "data": {
      "text/html": [
       "<div>\n",
       "<style scoped>\n",
       "    .dataframe tbody tr th:only-of-type {\n",
       "        vertical-align: middle;\n",
       "    }\n",
       "\n",
       "    .dataframe tbody tr th {\n",
       "        vertical-align: top;\n",
       "    }\n",
       "\n",
       "    .dataframe thead th {\n",
       "        text-align: right;\n",
       "    }\n",
       "</style>\n",
       "<table border=\"1\" class=\"dataframe\">\n",
       "  <thead>\n",
       "    <tr style=\"text-align: right;\">\n",
       "      <th></th>\n",
       "      <th>Date</th>\n",
       "      <th>Customers</th>\n",
       "      <th>Open</th>\n",
       "      <th>Promo</th>\n",
       "      <th>StateHoliday</th>\n",
       "      <th>SchoolHoliday</th>\n",
       "      <th>DayOfWeek</th>\n",
       "      <th>Sales</th>\n",
       "    </tr>\n",
       "  </thead>\n",
       "  <tbody>\n",
       "    <tr>\n",
       "      <th>0</th>\n",
       "      <td>2</td>\n",
       "      <td>616.0</td>\n",
       "      <td>YES</td>\n",
       "      <td>0</td>\n",
       "      <td>0</td>\n",
       "      <td>NO</td>\n",
       "      <td>3</td>\n",
       "      <td>4923.0</td>\n",
       "    </tr>\n",
       "    <tr>\n",
       "      <th>1</th>\n",
       "      <td>5</td>\n",
       "      <td>476.0</td>\n",
       "      <td>YES</td>\n",
       "      <td>1</td>\n",
       "      <td>0</td>\n",
       "      <td>NO</td>\n",
       "      <td>4</td>\n",
       "      <td>4562.0</td>\n",
       "    </tr>\n",
       "    <tr>\n",
       "      <th>2</th>\n",
       "      <td>2</td>\n",
       "      <td>635.0</td>\n",
       "      <td>YES</td>\n",
       "      <td>0</td>\n",
       "      <td>0</td>\n",
       "      <td>NO</td>\n",
       "      <td>3</td>\n",
       "      <td>5293.0</td>\n",
       "    </tr>\n",
       "    <tr>\n",
       "      <th>3</th>\n",
       "      <td>4</td>\n",
       "      <td>1581.0</td>\n",
       "      <td>YES</td>\n",
       "      <td>1</td>\n",
       "      <td>0</td>\n",
       "      <td>YES</td>\n",
       "      <td>3</td>\n",
       "      <td>12667.0</td>\n",
       "    </tr>\n",
       "    <tr>\n",
       "      <th>4</th>\n",
       "      <td>5</td>\n",
       "      <td>595.0</td>\n",
       "      <td>YES</td>\n",
       "      <td>1</td>\n",
       "      <td>0</td>\n",
       "      <td>NO</td>\n",
       "      <td>1</td>\n",
       "      <td>7529.0</td>\n",
       "    </tr>\n",
       "    <tr>\n",
       "      <th>...</th>\n",
       "      <td>...</td>\n",
       "      <td>...</td>\n",
       "      <td>...</td>\n",
       "      <td>...</td>\n",
       "      <td>...</td>\n",
       "      <td>...</td>\n",
       "      <td>...</td>\n",
       "      <td>...</td>\n",
       "    </tr>\n",
       "    <tr>\n",
       "      <th>99995</th>\n",
       "      <td>2</td>\n",
       "      <td>888.0</td>\n",
       "      <td>YES</td>\n",
       "      <td>0</td>\n",
       "      <td>0</td>\n",
       "      <td>NO</td>\n",
       "      <td>5</td>\n",
       "      <td>10100.0</td>\n",
       "    </tr>\n",
       "    <tr>\n",
       "      <th>99996</th>\n",
       "      <td>8</td>\n",
       "      <td>0.0</td>\n",
       "      <td>NO</td>\n",
       "      <td>0</td>\n",
       "      <td>0</td>\n",
       "      <td>YES</td>\n",
       "      <td>7</td>\n",
       "      <td>0.0</td>\n",
       "    </tr>\n",
       "    <tr>\n",
       "      <th>99997</th>\n",
       "      <td>2</td>\n",
       "      <td>818.0</td>\n",
       "      <td>YES</td>\n",
       "      <td>1</td>\n",
       "      <td>0</td>\n",
       "      <td>YES</td>\n",
       "      <td>1</td>\n",
       "      <td>7920.0</td>\n",
       "    </tr>\n",
       "    <tr>\n",
       "      <th>99998</th>\n",
       "      <td>2</td>\n",
       "      <td>592.0</td>\n",
       "      <td>YES</td>\n",
       "      <td>1</td>\n",
       "      <td>0</td>\n",
       "      <td>NO</td>\n",
       "      <td>4</td>\n",
       "      <td>8517.0</td>\n",
       "    </tr>\n",
       "    <tr>\n",
       "      <th>99999</th>\n",
       "      <td>3</td>\n",
       "      <td>1137.0</td>\n",
       "      <td>YES</td>\n",
       "      <td>1</td>\n",
       "      <td>0</td>\n",
       "      <td>NO</td>\n",
       "      <td>5</td>\n",
       "      <td>8451.0</td>\n",
       "    </tr>\n",
       "  </tbody>\n",
       "</table>\n",
       "<p>99999 rows × 8 columns</p>\n",
       "</div>"
      ],
      "text/plain": [
       "       Date  Customers Open  Promo StateHoliday SchoolHoliday  DayOfWeek  \\\n",
       "0         2      616.0  YES      0            0            NO          3   \n",
       "1         5      476.0  YES      1            0            NO          4   \n",
       "2         2      635.0  YES      0            0            NO          3   \n",
       "3         4     1581.0  YES      1            0           YES          3   \n",
       "4         5      595.0  YES      1            0            NO          1   \n",
       "...     ...        ...  ...    ...          ...           ...        ...   \n",
       "99995     2      888.0  YES      0            0            NO          5   \n",
       "99996     8        0.0   NO      0            0           YES          7   \n",
       "99997     2      818.0  YES      1            0           YES          1   \n",
       "99998     2      592.0  YES      1            0            NO          4   \n",
       "99999     3     1137.0  YES      1            0            NO          5   \n",
       "\n",
       "         Sales  \n",
       "0       4923.0  \n",
       "1       4562.0  \n",
       "2       5293.0  \n",
       "3      12667.0  \n",
       "4       7529.0  \n",
       "...        ...  \n",
       "99995  10100.0  \n",
       "99996      0.0  \n",
       "99997   7920.0  \n",
       "99998   8517.0  \n",
       "99999   8451.0  \n",
       "\n",
       "[99999 rows x 8 columns]"
      ]
     },
     "metadata": {},
     "output_type": "display_data"
    }
   ],
   "source": [
    "data['Date'] = data['Date'].astype(int)\n",
    "data['DayOfWeek'] = data['DayOfWeek'].astype(int)\n",
    "data['Promo'] = data['Promo'].astype(int)\n",
    "display(data)"
   ]
  },
  {
   "cell_type": "markdown",
   "id": "22f10756",
   "metadata": {
    "id": "22f10756"
   },
   "source": [
    "## Actividad 2\n"
   ]
  },
  {
   "cell_type": "markdown",
   "id": "9e5e0bfd",
   "metadata": {},
   "source": [
    "La función ```LabelEncoder``` se ocupa para asignar valores numéricos a variables categóricas pertenecientes al arreglo de las *labels*. Su uso **no se recomienda** para categorizar *features* porque es muy propenso a perder la referencia de qué valor está asociado a cada categoría. Sin embargo, con un poco de trabajo se puede hacer. En este caso, no la usaremos en ninguna columna y pasaremos los valores a numéricos \"a mano\". Para eso partimos por ver los distintos valores que hay en `Promo`:"
   ]
  },
  {
   "cell_type": "code",
   "execution_count": 32,
   "id": "f450d386",
   "metadata": {
    "colab": {
     "base_uri": "https://localhost:8080/"
    },
    "id": "f450d386",
    "outputId": "5cc416fb-f18b-497e-ee64-284da01d0c16"
   },
   "outputs": [
    {
     "name": "stdout",
     "output_type": "stream",
     "text": [
      "> Variable: Open\n",
      "['YES' 'NO']\n",
      "------------------------------------------------------------\n",
      "> Variable: StateHoliday\n",
      "['0' 'a' 'b' 'c']\n",
      "------------------------------------------------------------\n",
      "> Variable: SchoolHoliday\n",
      "['NO' 'YES']\n",
      "------------------------------------------------------------\n"
     ]
    },
    {
     "data": {
      "text/plain": [
       "\"print('> Tipos de datos por columna')\\nprint(data.dtypes, end = '\\n' + '-' * 60 + '\\n')\\n\\ndisplay(data)\""
      ]
     },
     "execution_count": 32,
     "metadata": {},
     "output_type": "execute_result"
    }
   ],
   "source": [
    "cat_vars = ['Open', 'StateHoliday', 'SchoolHoliday']\n",
    "\n",
    "for var in cat_vars:\n",
    "    print(f'> Variable: {var}')\n",
    "    print(data[var].unique(), end = '\\n' + '-' * 60 + '\\n')"
   ]
  },
  {
   "cell_type": "markdown",
   "id": "fe24ea2a",
   "metadata": {},
   "source": [
    "Vamos a cambiar los \"YES\" por 1's y los \"NO\" por 0's. En el caso de `StateHoliday` reemplazaremos en orden por 0, 1, 2 y 3:"
   ]
  },
  {
   "cell_type": "code",
   "execution_count": 40,
   "id": "3d113aff",
   "metadata": {},
   "outputs": [
    {
     "data": {
      "text/html": [
       "<div>\n",
       "<style scoped>\n",
       "    .dataframe tbody tr th:only-of-type {\n",
       "        vertical-align: middle;\n",
       "    }\n",
       "\n",
       "    .dataframe tbody tr th {\n",
       "        vertical-align: top;\n",
       "    }\n",
       "\n",
       "    .dataframe thead th {\n",
       "        text-align: right;\n",
       "    }\n",
       "</style>\n",
       "<table border=\"1\" class=\"dataframe\">\n",
       "  <thead>\n",
       "    <tr style=\"text-align: right;\">\n",
       "      <th></th>\n",
       "      <th>Date</th>\n",
       "      <th>Customers</th>\n",
       "      <th>Open</th>\n",
       "      <th>Promo</th>\n",
       "      <th>StateHoliday</th>\n",
       "      <th>SchoolHoliday</th>\n",
       "      <th>DayOfWeek</th>\n",
       "      <th>Sales</th>\n",
       "    </tr>\n",
       "  </thead>\n",
       "  <tbody>\n",
       "    <tr>\n",
       "      <th>0</th>\n",
       "      <td>2</td>\n",
       "      <td>616.0</td>\n",
       "      <td>1</td>\n",
       "      <td>0</td>\n",
       "      <td>0</td>\n",
       "      <td>0</td>\n",
       "      <td>3</td>\n",
       "      <td>4923.0</td>\n",
       "    </tr>\n",
       "    <tr>\n",
       "      <th>1</th>\n",
       "      <td>5</td>\n",
       "      <td>476.0</td>\n",
       "      <td>1</td>\n",
       "      <td>1</td>\n",
       "      <td>0</td>\n",
       "      <td>0</td>\n",
       "      <td>4</td>\n",
       "      <td>4562.0</td>\n",
       "    </tr>\n",
       "    <tr>\n",
       "      <th>2</th>\n",
       "      <td>2</td>\n",
       "      <td>635.0</td>\n",
       "      <td>1</td>\n",
       "      <td>0</td>\n",
       "      <td>0</td>\n",
       "      <td>0</td>\n",
       "      <td>3</td>\n",
       "      <td>5293.0</td>\n",
       "    </tr>\n",
       "    <tr>\n",
       "      <th>3</th>\n",
       "      <td>4</td>\n",
       "      <td>1581.0</td>\n",
       "      <td>1</td>\n",
       "      <td>1</td>\n",
       "      <td>0</td>\n",
       "      <td>1</td>\n",
       "      <td>3</td>\n",
       "      <td>12667.0</td>\n",
       "    </tr>\n",
       "    <tr>\n",
       "      <th>4</th>\n",
       "      <td>5</td>\n",
       "      <td>595.0</td>\n",
       "      <td>1</td>\n",
       "      <td>1</td>\n",
       "      <td>0</td>\n",
       "      <td>0</td>\n",
       "      <td>1</td>\n",
       "      <td>7529.0</td>\n",
       "    </tr>\n",
       "    <tr>\n",
       "      <th>...</th>\n",
       "      <td>...</td>\n",
       "      <td>...</td>\n",
       "      <td>...</td>\n",
       "      <td>...</td>\n",
       "      <td>...</td>\n",
       "      <td>...</td>\n",
       "      <td>...</td>\n",
       "      <td>...</td>\n",
       "    </tr>\n",
       "    <tr>\n",
       "      <th>99995</th>\n",
       "      <td>2</td>\n",
       "      <td>888.0</td>\n",
       "      <td>1</td>\n",
       "      <td>0</td>\n",
       "      <td>0</td>\n",
       "      <td>0</td>\n",
       "      <td>5</td>\n",
       "      <td>10100.0</td>\n",
       "    </tr>\n",
       "    <tr>\n",
       "      <th>99996</th>\n",
       "      <td>8</td>\n",
       "      <td>0.0</td>\n",
       "      <td>0</td>\n",
       "      <td>0</td>\n",
       "      <td>0</td>\n",
       "      <td>1</td>\n",
       "      <td>7</td>\n",
       "      <td>0.0</td>\n",
       "    </tr>\n",
       "    <tr>\n",
       "      <th>99997</th>\n",
       "      <td>2</td>\n",
       "      <td>818.0</td>\n",
       "      <td>1</td>\n",
       "      <td>1</td>\n",
       "      <td>0</td>\n",
       "      <td>1</td>\n",
       "      <td>1</td>\n",
       "      <td>7920.0</td>\n",
       "    </tr>\n",
       "    <tr>\n",
       "      <th>99998</th>\n",
       "      <td>2</td>\n",
       "      <td>592.0</td>\n",
       "      <td>1</td>\n",
       "      <td>1</td>\n",
       "      <td>0</td>\n",
       "      <td>0</td>\n",
       "      <td>4</td>\n",
       "      <td>8517.0</td>\n",
       "    </tr>\n",
       "    <tr>\n",
       "      <th>99999</th>\n",
       "      <td>3</td>\n",
       "      <td>1137.0</td>\n",
       "      <td>1</td>\n",
       "      <td>1</td>\n",
       "      <td>0</td>\n",
       "      <td>0</td>\n",
       "      <td>5</td>\n",
       "      <td>8451.0</td>\n",
       "    </tr>\n",
       "  </tbody>\n",
       "</table>\n",
       "<p>99999 rows × 8 columns</p>\n",
       "</div>"
      ],
      "text/plain": [
       "       Date  Customers  Open  Promo  StateHoliday  SchoolHoliday  DayOfWeek  \\\n",
       "0         2      616.0     1      0             0              0          3   \n",
       "1         5      476.0     1      1             0              0          4   \n",
       "2         2      635.0     1      0             0              0          3   \n",
       "3         4     1581.0     1      1             0              1          3   \n",
       "4         5      595.0     1      1             0              0          1   \n",
       "...     ...        ...   ...    ...           ...            ...        ...   \n",
       "99995     2      888.0     1      0             0              0          5   \n",
       "99996     8        0.0     0      0             0              1          7   \n",
       "99997     2      818.0     1      1             0              1          1   \n",
       "99998     2      592.0     1      1             0              0          4   \n",
       "99999     3     1137.0     1      1             0              0          5   \n",
       "\n",
       "         Sales  \n",
       "0       4923.0  \n",
       "1       4562.0  \n",
       "2       5293.0  \n",
       "3      12667.0  \n",
       "4       7529.0  \n",
       "...        ...  \n",
       "99995  10100.0  \n",
       "99996      0.0  \n",
       "99997   7920.0  \n",
       "99998   8517.0  \n",
       "99999   8451.0  \n",
       "\n",
       "[99999 rows x 8 columns]"
      ]
     },
     "metadata": {},
     "output_type": "display_data"
    }
   ],
   "source": [
    "# Ponemos valores numéricos a Open y lo cambiamos a tipo int\n",
    "data.loc[data['Open'] == 'NO', 'Open'] = 0\n",
    "data.loc[data['Open'] == 'YES', 'Open'] = 1\n",
    "data['Open'] = data['Open'].astype(int)\n",
    "\n",
    "# Ponemos valores numéricos a Open y lo cambiamos a tipo int\n",
    "data.loc[data['StateHoliday'] == '0', 'StateHoliday'] = 0\n",
    "data.loc[data['StateHoliday'] == 'a', 'StateHoliday'] = 1\n",
    "data.loc[data['StateHoliday'] == 'b', 'StateHoliday'] = 2\n",
    "data.loc[data['StateHoliday'] == 'c', 'StateHoliday'] = 3\n",
    "data['StateHoliday'] = data['StateHoliday'].astype(int)\n",
    "\n",
    "# Ponemos valores numéricos a Open y lo cambiamos a tipo int\n",
    "data.loc[data['SchoolHoliday'] == 'NO', 'SchoolHoliday'] = 0\n",
    "data.loc[data['SchoolHoliday'] == 'YES', 'SchoolHoliday'] = 1\n",
    "data['SchoolHoliday'] = data['SchoolHoliday'].astype(int)\n",
    "\n",
    "display(data)"
   ]
  },
  {
   "cell_type": "markdown",
   "id": "f1b71b5c",
   "metadata": {
    "id": "f1b71b5c"
   },
   "source": [
    "## Actividad 3\n"
   ]
  },
  {
   "cell_type": "markdown",
   "id": "deaf2add",
   "metadata": {},
   "source": [
    "Para esta pregunta hay muchos acercamientos posibles. El más probable es que dividan los datos de forma equitativa para cada categoría (por quintiles), lo cual está bien, aunque podrían presentar complicaciones en el rendimiento. En esta pauta, se propone un modelo usual para dividir ventas entre sus valores extremos y los estándar. Para esto, el primero 10% de los datos será el de ventas muy bajas, mientras que el último 10% será el de las ventas muy altas. Existe la opción de seguir distribuciones Gamma también.\n",
    "\n",
    "El de ventas bajas serán los datos entre el 10% y 30%, mientras que el de ventas altas estará entre el 70% y 90% de los datos. Mientras que las ventas medias/normales, son aquellas que se mueven entre el 30% y 70% de los datos (la categoría más amplia). La lógica detrás de esta división es que los valores extremos son menos usuales, mientras que se van duplicando a medida que se acercan a valores más centrales.\n",
    "\n",
    "Si graficamos las ventas continuas, tenemos lo siguiente (no es estrictamente necesario):"
   ]
  },
  {
   "cell_type": "code",
   "execution_count": 41,
   "id": "b1f472a8",
   "metadata": {
    "colab": {
     "base_uri": "https://localhost:8080/",
     "height": 538
    },
    "id": "b1f472a8",
    "outputId": "3f890857-3598-4758-bdae-0197baa5b516"
   },
   "outputs": [
    {
     "data": {
      "image/png": "[encoded data removed]",
      "text/plain": [
       "<Figure size 720x576 with 1 Axes>"
      ]
     },
     "metadata": {
      "needs_background": "light"
     },
     "output_type": "display_data"
    }
   ],
   "source": [
    "data['Sales'].hist(bins=80, figsize=(10,8))\n",
    "plt.title('Histograma ventas registradas', fontsize = 18)\n",
    "plt.xlabel('Ventas', fontsize = 14)\n",
    "plt.ylabel('Cantidad de registros', fontsize = 14)\n",
    "plt.show()"
   ]
  },
  {
   "cell_type": "markdown",
   "id": "bc8f2412",
   "metadata": {},
   "source": [
    "Ahora, calculamos los deciles para poder hacer la división:"
   ]
  },
  {
   "cell_type": "code",
   "execution_count": 42,
   "id": "509f5f3f",
   "metadata": {},
   "outputs": [
    {
     "name": "stdout",
     "output_type": "stream",
     "text": [
      "[    0.      0.   2956.   4229.   5014.   5731.   6479.8  7337.   8451.\n",
      " 10281. ]\n"
     ]
    }
   ],
   "source": [
    "deciles = np.percentile(data['Sales'], np.arange(0, 100, 10))\n",
    "print(deciles)"
   ]
  },
  {
   "cell_type": "markdown",
   "id": "2042683d",
   "metadata": {},
   "source": [
    "Creamos una nueva columna llamada ```Sales Category```, donde se asigna la categoría según el nivel de ventas:\n",
    "* muy bajas: 0\n",
    "* bajas:     1\n",
    "* normales:  2\n",
    "* altas:     3\n",
    "* muy altas: 4"
   ]
  },
  {
   "cell_type": "code",
   "execution_count": 43,
   "id": "31688f40",
   "metadata": {
    "id": "31688f40"
   },
   "outputs": [
    {
     "data": {
      "text/html": [
       "<div>\n",
       "<style scoped>\n",
       "    .dataframe tbody tr th:only-of-type {\n",
       "        vertical-align: middle;\n",
       "    }\n",
       "\n",
       "    .dataframe tbody tr th {\n",
       "        vertical-align: top;\n",
       "    }\n",
       "\n",
       "    .dataframe thead th {\n",
       "        text-align: right;\n",
       "    }\n",
       "</style>\n",
       "<table border=\"1\" class=\"dataframe\">\n",
       "  <thead>\n",
       "    <tr style=\"text-align: right;\">\n",
       "      <th></th>\n",
       "      <th>Date</th>\n",
       "      <th>Customers</th>\n",
       "      <th>Open</th>\n",
       "      <th>Promo</th>\n",
       "      <th>StateHoliday</th>\n",
       "      <th>SchoolHoliday</th>\n",
       "      <th>DayOfWeek</th>\n",
       "      <th>Sales</th>\n",
       "      <th>Sales Category</th>\n",
       "    </tr>\n",
       "  </thead>\n",
       "  <tbody>\n",
       "    <tr>\n",
       "      <th>0</th>\n",
       "      <td>2</td>\n",
       "      <td>616.0</td>\n",
       "      <td>1</td>\n",
       "      <td>0</td>\n",
       "      <td>0</td>\n",
       "      <td>0</td>\n",
       "      <td>3</td>\n",
       "      <td>4923.0</td>\n",
       "      <td>2</td>\n",
       "    </tr>\n",
       "    <tr>\n",
       "      <th>1</th>\n",
       "      <td>5</td>\n",
       "      <td>476.0</td>\n",
       "      <td>1</td>\n",
       "      <td>1</td>\n",
       "      <td>0</td>\n",
       "      <td>0</td>\n",
       "      <td>4</td>\n",
       "      <td>4562.0</td>\n",
       "      <td>2</td>\n",
       "    </tr>\n",
       "    <tr>\n",
       "      <th>2</th>\n",
       "      <td>2</td>\n",
       "      <td>635.0</td>\n",
       "      <td>1</td>\n",
       "      <td>0</td>\n",
       "      <td>0</td>\n",
       "      <td>0</td>\n",
       "      <td>3</td>\n",
       "      <td>5293.0</td>\n",
       "      <td>2</td>\n",
       "    </tr>\n",
       "    <tr>\n",
       "      <th>3</th>\n",
       "      <td>4</td>\n",
       "      <td>1581.0</td>\n",
       "      <td>1</td>\n",
       "      <td>1</td>\n",
       "      <td>0</td>\n",
       "      <td>1</td>\n",
       "      <td>3</td>\n",
       "      <td>12667.0</td>\n",
       "      <td>4</td>\n",
       "    </tr>\n",
       "    <tr>\n",
       "      <th>4</th>\n",
       "      <td>5</td>\n",
       "      <td>595.0</td>\n",
       "      <td>1</td>\n",
       "      <td>1</td>\n",
       "      <td>0</td>\n",
       "      <td>0</td>\n",
       "      <td>1</td>\n",
       "      <td>7529.0</td>\n",
       "      <td>2</td>\n",
       "    </tr>\n",
       "    <tr>\n",
       "      <th>...</th>\n",
       "      <td>...</td>\n",
       "      <td>...</td>\n",
       "      <td>...</td>\n",
       "      <td>...</td>\n",
       "      <td>...</td>\n",
       "      <td>...</td>\n",
       "      <td>...</td>\n",
       "      <td>...</td>\n",
       "      <td>...</td>\n",
       "    </tr>\n",
       "    <tr>\n",
       "      <th>99995</th>\n",
       "      <td>2</td>\n",
       "      <td>888.0</td>\n",
       "      <td>1</td>\n",
       "      <td>0</td>\n",
       "      <td>0</td>\n",
       "      <td>0</td>\n",
       "      <td>5</td>\n",
       "      <td>10100.0</td>\n",
       "      <td>3</td>\n",
       "    </tr>\n",
       "    <tr>\n",
       "      <th>99996</th>\n",
       "      <td>8</td>\n",
       "      <td>0.0</td>\n",
       "      <td>0</td>\n",
       "      <td>0</td>\n",
       "      <td>0</td>\n",
       "      <td>1</td>\n",
       "      <td>7</td>\n",
       "      <td>0.0</td>\n",
       "      <td>0</td>\n",
       "    </tr>\n",
       "    <tr>\n",
       "      <th>99997</th>\n",
       "      <td>2</td>\n",
       "      <td>818.0</td>\n",
       "      <td>1</td>\n",
       "      <td>1</td>\n",
       "      <td>0</td>\n",
       "      <td>1</td>\n",
       "      <td>1</td>\n",
       "      <td>7920.0</td>\n",
       "      <td>2</td>\n",
       "    </tr>\n",
       "    <tr>\n",
       "      <th>99998</th>\n",
       "      <td>2</td>\n",
       "      <td>592.0</td>\n",
       "      <td>1</td>\n",
       "      <td>1</td>\n",
       "      <td>0</td>\n",
       "      <td>0</td>\n",
       "      <td>4</td>\n",
       "      <td>8517.0</td>\n",
       "      <td>3</td>\n",
       "    </tr>\n",
       "    <tr>\n",
       "      <th>99999</th>\n",
       "      <td>3</td>\n",
       "      <td>1137.0</td>\n",
       "      <td>1</td>\n",
       "      <td>1</td>\n",
       "      <td>0</td>\n",
       "      <td>0</td>\n",
       "      <td>5</td>\n",
       "      <td>8451.0</td>\n",
       "      <td>2</td>\n",
       "    </tr>\n",
       "  </tbody>\n",
       "</table>\n",
       "<p>99999 rows × 9 columns</p>\n",
       "</div>"
      ],
      "text/plain": [
       "       Date  Customers  Open  Promo  StateHoliday  SchoolHoliday  DayOfWeek  \\\n",
       "0         2      616.0     1      0             0              0          3   \n",
       "1         5      476.0     1      1             0              0          4   \n",
       "2         2      635.0     1      0             0              0          3   \n",
       "3         4     1581.0     1      1             0              1          3   \n",
       "4         5      595.0     1      1             0              0          1   \n",
       "...     ...        ...   ...    ...           ...            ...        ...   \n",
       "99995     2      888.0     1      0             0              0          5   \n",
       "99996     8        0.0     0      0             0              1          7   \n",
       "99997     2      818.0     1      1             0              1          1   \n",
       "99998     2      592.0     1      1             0              0          4   \n",
       "99999     3     1137.0     1      1             0              0          5   \n",
       "\n",
       "         Sales Sales Category  \n",
       "0       4923.0              2  \n",
       "1       4562.0              2  \n",
       "2       5293.0              2  \n",
       "3      12667.0              4  \n",
       "4       7529.0              2  \n",
       "...        ...            ...  \n",
       "99995  10100.0              3  \n",
       "99996      0.0              0  \n",
       "99997   7920.0              2  \n",
       "99998   8517.0              3  \n",
       "99999   8451.0              2  \n",
       "\n",
       "[99999 rows x 9 columns]"
      ]
     },
     "metadata": {},
     "output_type": "display_data"
    }
   ],
   "source": [
    "# Sumamos y restamos 100 porque no pueden haber intervalos donde el límite inferior y superior sea igual\n",
    "data['Sales Category'] = pd.cut(data['Sales'], bins=[deciles[0] - 10, deciles[1] + 10, \n",
    "                                                     deciles[3], deciles[8], \n",
    "                                                     deciles[9], data['Sales'].max()], \n",
    "                                labels=[0, 1, 2, 3, 4])\n",
    "\n",
    "display(data)"
   ]
  },
  {
   "cell_type": "markdown",
   "id": "83aed8ad",
   "metadata": {},
   "source": [
    "Ahora, para evitar \"hacer trampa\" eliminamos la columna ```Sales```:"
   ]
  },
  {
   "cell_type": "code",
   "execution_count": 44,
   "id": "1cb85542",
   "metadata": {
    "colab": {
     "base_uri": "https://localhost:8080/",
     "height": 417
    },
    "id": "1cb85542",
    "outputId": "0a2da673-23c5-4720-ed73-f077ad22fa8c"
   },
   "outputs": [
    {
     "data": {
      "text/html": [
       "<div>\n",
       "<style scoped>\n",
       "    .dataframe tbody tr th:only-of-type {\n",
       "        vertical-align: middle;\n",
       "    }\n",
       "\n",
       "    .dataframe tbody tr th {\n",
       "        vertical-align: top;\n",
       "    }\n",
       "\n",
       "    .dataframe thead th {\n",
       "        text-align: right;\n",
       "    }\n",
       "</style>\n",
       "<table border=\"1\" class=\"dataframe\">\n",
       "  <thead>\n",
       "    <tr style=\"text-align: right;\">\n",
       "      <th></th>\n",
       "      <th>Date</th>\n",
       "      <th>Customers</th>\n",
       "      <th>Open</th>\n",
       "      <th>Promo</th>\n",
       "      <th>StateHoliday</th>\n",
       "      <th>SchoolHoliday</th>\n",
       "      <th>DayOfWeek</th>\n",
       "      <th>Sales Category</th>\n",
       "    </tr>\n",
       "  </thead>\n",
       "  <tbody>\n",
       "    <tr>\n",
       "      <th>0</th>\n",
       "      <td>2</td>\n",
       "      <td>616.0</td>\n",
       "      <td>1</td>\n",
       "      <td>0</td>\n",
       "      <td>0</td>\n",
       "      <td>0</td>\n",
       "      <td>3</td>\n",
       "      <td>2</td>\n",
       "    </tr>\n",
       "    <tr>\n",
       "      <th>1</th>\n",
       "      <td>5</td>\n",
       "      <td>476.0</td>\n",
       "      <td>1</td>\n",
       "      <td>1</td>\n",
       "      <td>0</td>\n",
       "      <td>0</td>\n",
       "      <td>4</td>\n",
       "      <td>2</td>\n",
       "    </tr>\n",
       "    <tr>\n",
       "      <th>2</th>\n",
       "      <td>2</td>\n",
       "      <td>635.0</td>\n",
       "      <td>1</td>\n",
       "      <td>0</td>\n",
       "      <td>0</td>\n",
       "      <td>0</td>\n",
       "      <td>3</td>\n",
       "      <td>2</td>\n",
       "    </tr>\n",
       "    <tr>\n",
       "      <th>3</th>\n",
       "      <td>4</td>\n",
       "      <td>1581.0</td>\n",
       "      <td>1</td>\n",
       "      <td>1</td>\n",
       "      <td>0</td>\n",
       "      <td>1</td>\n",
       "      <td>3</td>\n",
       "      <td>4</td>\n",
       "    </tr>\n",
       "    <tr>\n",
       "      <th>4</th>\n",
       "      <td>5</td>\n",
       "      <td>595.0</td>\n",
       "      <td>1</td>\n",
       "      <td>1</td>\n",
       "      <td>0</td>\n",
       "      <td>0</td>\n",
       "      <td>1</td>\n",
       "      <td>2</td>\n",
       "    </tr>\n",
       "    <tr>\n",
       "      <th>...</th>\n",
       "      <td>...</td>\n",
       "      <td>...</td>\n",
       "      <td>...</td>\n",
       "      <td>...</td>\n",
       "      <td>...</td>\n",
       "      <td>...</td>\n",
       "      <td>...</td>\n",
       "      <td>...</td>\n",
       "    </tr>\n",
       "    <tr>\n",
       "      <th>99995</th>\n",
       "      <td>2</td>\n",
       "      <td>888.0</td>\n",
       "      <td>1</td>\n",
       "      <td>0</td>\n",
       "      <td>0</td>\n",
       "      <td>0</td>\n",
       "      <td>5</td>\n",
       "      <td>3</td>\n",
       "    </tr>\n",
       "    <tr>\n",
       "      <th>99996</th>\n",
       "      <td>8</td>\n",
       "      <td>0.0</td>\n",
       "      <td>0</td>\n",
       "      <td>0</td>\n",
       "      <td>0</td>\n",
       "      <td>1</td>\n",
       "      <td>7</td>\n",
       "      <td>0</td>\n",
       "    </tr>\n",
       "    <tr>\n",
       "      <th>99997</th>\n",
       "      <td>2</td>\n",
       "      <td>818.0</td>\n",
       "      <td>1</td>\n",
       "      <td>1</td>\n",
       "      <td>0</td>\n",
       "      <td>1</td>\n",
       "      <td>1</td>\n",
       "      <td>2</td>\n",
       "    </tr>\n",
       "    <tr>\n",
       "      <th>99998</th>\n",
       "      <td>2</td>\n",
       "      <td>592.0</td>\n",
       "      <td>1</td>\n",
       "      <td>1</td>\n",
       "      <td>0</td>\n",
       "      <td>0</td>\n",
       "      <td>4</td>\n",
       "      <td>3</td>\n",
       "    </tr>\n",
       "    <tr>\n",
       "      <th>99999</th>\n",
       "      <td>3</td>\n",
       "      <td>1137.0</td>\n",
       "      <td>1</td>\n",
       "      <td>1</td>\n",
       "      <td>0</td>\n",
       "      <td>0</td>\n",
       "      <td>5</td>\n",
       "      <td>2</td>\n",
       "    </tr>\n",
       "  </tbody>\n",
       "</table>\n",
       "<p>99999 rows × 8 columns</p>\n",
       "</div>"
      ],
      "text/plain": [
       "       Date  Customers  Open  Promo  StateHoliday  SchoolHoliday  DayOfWeek  \\\n",
       "0         2      616.0     1      0             0              0          3   \n",
       "1         5      476.0     1      1             0              0          4   \n",
       "2         2      635.0     1      0             0              0          3   \n",
       "3         4     1581.0     1      1             0              1          3   \n",
       "4         5      595.0     1      1             0              0          1   \n",
       "...     ...        ...   ...    ...           ...            ...        ...   \n",
       "99995     2      888.0     1      0             0              0          5   \n",
       "99996     8        0.0     0      0             0              1          7   \n",
       "99997     2      818.0     1      1             0              1          1   \n",
       "99998     2      592.0     1      1             0              0          4   \n",
       "99999     3     1137.0     1      1             0              0          5   \n",
       "\n",
       "      Sales Category  \n",
       "0                  2  \n",
       "1                  2  \n",
       "2                  2  \n",
       "3                  4  \n",
       "4                  2  \n",
       "...              ...  \n",
       "99995              3  \n",
       "99996              0  \n",
       "99997              2  \n",
       "99998              3  \n",
       "99999              2  \n",
       "\n",
       "[99999 rows x 8 columns]"
      ]
     },
     "metadata": {},
     "output_type": "display_data"
    }
   ],
   "source": [
    "data.drop(['Sales'], axis=1, inplace=True)\n",
    "display(data)"
   ]
  },
  {
   "cell_type": "markdown",
   "id": "d6e0bf1c",
   "metadata": {},
   "source": [
    "Mostramos un histograma con la cantidad de instancias por categoría:"
   ]
  },
  {
   "cell_type": "code",
   "execution_count": 45,
   "id": "6a4375f5",
   "metadata": {
    "colab": {
     "base_uri": "https://localhost:8080/",
     "height": 538
    },
    "id": "6a4375f5",
    "outputId": "f6ed65c4-51c8-408b-dd20-2b37cf32c474"
   },
   "outputs": [
    {
     "data": {
      "image/png": "[encoded data removed]",
      "text/plain": [
       "<Figure size 720x576 with 1 Axes>"
      ]
     },
     "metadata": {
      "needs_background": "light"
     },
     "output_type": "display_data"
    }
   ],
   "source": [
    "data['Sales Category'].hist(figsize=(10,8))\n",
    "plt.title('Histograma ventas registradas por categoría', fontsize = 18)\n",
    "plt.xlabel('Categoria de Ventas', fontsize = 14)\n",
    "plt.ylabel('Cantidad de registros', fontsize = 14)\n",
    "plt.show()"
   ]
  },
  {
   "cell_type": "markdown",
   "id": "a91957ce",
   "metadata": {},
   "source": [
    "Esta distribución de ventas es útil para estos propósitos, aunque lo esperable es que opten por una distribución balanceada (quintiles)."
   ]
  },
  {
   "cell_type": "markdown",
   "id": "7fd06cdc",
   "metadata": {
    "id": "7fd06cdc"
   },
   "source": [
    "## Actividad 4\n"
   ]
  },
  {
   "cell_type": "markdown",
   "id": "facf5f9c",
   "metadata": {},
   "source": [
    "Ordenamos el *dataset* por nivel de ventas:"
   ]
  },
  {
   "cell_type": "code",
   "execution_count": 46,
   "id": "2dd92a0b",
   "metadata": {},
   "outputs": [
    {
     "data": {
      "text/html": [
       "<div>\n",
       "<style scoped>\n",
       "    .dataframe tbody tr th:only-of-type {\n",
       "        vertical-align: middle;\n",
       "    }\n",
       "\n",
       "    .dataframe tbody tr th {\n",
       "        vertical-align: top;\n",
       "    }\n",
       "\n",
       "    .dataframe thead th {\n",
       "        text-align: right;\n",
       "    }\n",
       "</style>\n",
       "<table border=\"1\" class=\"dataframe\">\n",
       "  <thead>\n",
       "    <tr style=\"text-align: right;\">\n",
       "      <th></th>\n",
       "      <th>Date</th>\n",
       "      <th>Customers</th>\n",
       "      <th>Open</th>\n",
       "      <th>Promo</th>\n",
       "      <th>StateHoliday</th>\n",
       "      <th>SchoolHoliday</th>\n",
       "      <th>DayOfWeek</th>\n",
       "      <th>Sales Category</th>\n",
       "    </tr>\n",
       "  </thead>\n",
       "  <tbody>\n",
       "    <tr>\n",
       "      <th>67488</th>\n",
       "      <td>5</td>\n",
       "      <td>0.0</td>\n",
       "      <td>0</td>\n",
       "      <td>0</td>\n",
       "      <td>0</td>\n",
       "      <td>0</td>\n",
       "      <td>7</td>\n",
       "      <td>0</td>\n",
       "    </tr>\n",
       "    <tr>\n",
       "      <th>41193</th>\n",
       "      <td>6</td>\n",
       "      <td>0.0</td>\n",
       "      <td>0</td>\n",
       "      <td>0</td>\n",
       "      <td>0</td>\n",
       "      <td>0</td>\n",
       "      <td>7</td>\n",
       "      <td>0</td>\n",
       "    </tr>\n",
       "    <tr>\n",
       "      <th>75667</th>\n",
       "      <td>4</td>\n",
       "      <td>0.0</td>\n",
       "      <td>0</td>\n",
       "      <td>0</td>\n",
       "      <td>0</td>\n",
       "      <td>0</td>\n",
       "      <td>7</td>\n",
       "      <td>0</td>\n",
       "    </tr>\n",
       "    <tr>\n",
       "      <th>87977</th>\n",
       "      <td>8</td>\n",
       "      <td>0.0</td>\n",
       "      <td>0</td>\n",
       "      <td>0</td>\n",
       "      <td>0</td>\n",
       "      <td>0</td>\n",
       "      <td>7</td>\n",
       "      <td>0</td>\n",
       "    </tr>\n",
       "    <tr>\n",
       "      <th>63923</th>\n",
       "      <td>4</td>\n",
       "      <td>0.0</td>\n",
       "      <td>0</td>\n",
       "      <td>0</td>\n",
       "      <td>0</td>\n",
       "      <td>0</td>\n",
       "      <td>7</td>\n",
       "      <td>0</td>\n",
       "    </tr>\n",
       "    <tr>\n",
       "      <th>...</th>\n",
       "      <td>...</td>\n",
       "      <td>...</td>\n",
       "      <td>...</td>\n",
       "      <td>...</td>\n",
       "      <td>...</td>\n",
       "      <td>...</td>\n",
       "      <td>...</td>\n",
       "      <td>...</td>\n",
       "    </tr>\n",
       "    <tr>\n",
       "      <th>84982</th>\n",
       "      <td>1</td>\n",
       "      <td>851.0</td>\n",
       "      <td>1</td>\n",
       "      <td>1</td>\n",
       "      <td>0</td>\n",
       "      <td>0</td>\n",
       "      <td>1</td>\n",
       "      <td>4</td>\n",
       "    </tr>\n",
       "    <tr>\n",
       "      <th>61875</th>\n",
       "      <td>11</td>\n",
       "      <td>944.0</td>\n",
       "      <td>1</td>\n",
       "      <td>1</td>\n",
       "      <td>0</td>\n",
       "      <td>0</td>\n",
       "      <td>1</td>\n",
       "      <td>4</td>\n",
       "    </tr>\n",
       "    <tr>\n",
       "      <th>61872</th>\n",
       "      <td>7</td>\n",
       "      <td>717.0</td>\n",
       "      <td>1</td>\n",
       "      <td>1</td>\n",
       "      <td>0</td>\n",
       "      <td>0</td>\n",
       "      <td>3</td>\n",
       "      <td>4</td>\n",
       "    </tr>\n",
       "    <tr>\n",
       "      <th>17170</th>\n",
       "      <td>5</td>\n",
       "      <td>1684.0</td>\n",
       "      <td>1</td>\n",
       "      <td>0</td>\n",
       "      <td>0</td>\n",
       "      <td>0</td>\n",
       "      <td>5</td>\n",
       "      <td>4</td>\n",
       "    </tr>\n",
       "    <tr>\n",
       "      <th>26623</th>\n",
       "      <td>1</td>\n",
       "      <td>1360.0</td>\n",
       "      <td>1</td>\n",
       "      <td>1</td>\n",
       "      <td>0</td>\n",
       "      <td>0</td>\n",
       "      <td>2</td>\n",
       "      <td>4</td>\n",
       "    </tr>\n",
       "  </tbody>\n",
       "</table>\n",
       "<p>99999 rows × 8 columns</p>\n",
       "</div>"
      ],
      "text/plain": [
       "       Date  Customers  Open  Promo  StateHoliday  SchoolHoliday  DayOfWeek  \\\n",
       "67488     5        0.0     0      0             0              0          7   \n",
       "41193     6        0.0     0      0             0              0          7   \n",
       "75667     4        0.0     0      0             0              0          7   \n",
       "87977     8        0.0     0      0             0              0          7   \n",
       "63923     4        0.0     0      0             0              0          7   \n",
       "...     ...        ...   ...    ...           ...            ...        ...   \n",
       "84982     1      851.0     1      1             0              0          1   \n",
       "61875    11      944.0     1      1             0              0          1   \n",
       "61872     7      717.0     1      1             0              0          3   \n",
       "17170     5     1684.0     1      0             0              0          5   \n",
       "26623     1     1360.0     1      1             0              0          2   \n",
       "\n",
       "      Sales Category  \n",
       "67488              0  \n",
       "41193              0  \n",
       "75667              0  \n",
       "87977              0  \n",
       "63923              0  \n",
       "...              ...  \n",
       "84982              4  \n",
       "61875              4  \n",
       "61872              4  \n",
       "17170              4  \n",
       "26623              4  \n",
       "\n",
       "[99999 rows x 8 columns]"
      ]
     },
     "metadata": {},
     "output_type": "display_data"
    }
   ],
   "source": [
    "data = data.sort_values('Sales Category')\n",
    "display(data)"
   ]
  },
  {
   "cell_type": "markdown",
   "id": "lZgUFvEGD2Q2",
   "metadata": {
    "id": "lZgUFvEGD2Q2"
   },
   "source": [
    "Usamos el primer 70% para train y el otro 30% para test:"
   ]
  },
  {
   "cell_type": "code",
   "execution_count": 47,
   "id": "1b654cbb",
   "metadata": {
    "id": "1b654cbb"
   },
   "outputs": [
    {
     "name": "stdout",
     "output_type": "stream",
     "text": [
      "> Train:\n"
     ]
    },
    {
     "data": {
      "text/html": [
       "<div>\n",
       "<style scoped>\n",
       "    .dataframe tbody tr th:only-of-type {\n",
       "        vertical-align: middle;\n",
       "    }\n",
       "\n",
       "    .dataframe tbody tr th {\n",
       "        vertical-align: top;\n",
       "    }\n",
       "\n",
       "    .dataframe thead th {\n",
       "        text-align: right;\n",
       "    }\n",
       "</style>\n",
       "<table border=\"1\" class=\"dataframe\">\n",
       "  <thead>\n",
       "    <tr style=\"text-align: right;\">\n",
       "      <th></th>\n",
       "      <th>Date</th>\n",
       "      <th>Customers</th>\n",
       "      <th>Open</th>\n",
       "      <th>Promo</th>\n",
       "      <th>StateHoliday</th>\n",
       "      <th>SchoolHoliday</th>\n",
       "      <th>DayOfWeek</th>\n",
       "      <th>Sales Category</th>\n",
       "    </tr>\n",
       "  </thead>\n",
       "  <tbody>\n",
       "    <tr>\n",
       "      <th>67488</th>\n",
       "      <td>5</td>\n",
       "      <td>0.0</td>\n",
       "      <td>0</td>\n",
       "      <td>0</td>\n",
       "      <td>0</td>\n",
       "      <td>0</td>\n",
       "      <td>7</td>\n",
       "      <td>0</td>\n",
       "    </tr>\n",
       "    <tr>\n",
       "      <th>41193</th>\n",
       "      <td>6</td>\n",
       "      <td>0.0</td>\n",
       "      <td>0</td>\n",
       "      <td>0</td>\n",
       "      <td>0</td>\n",
       "      <td>0</td>\n",
       "      <td>7</td>\n",
       "      <td>0</td>\n",
       "    </tr>\n",
       "    <tr>\n",
       "      <th>75667</th>\n",
       "      <td>4</td>\n",
       "      <td>0.0</td>\n",
       "      <td>0</td>\n",
       "      <td>0</td>\n",
       "      <td>0</td>\n",
       "      <td>0</td>\n",
       "      <td>7</td>\n",
       "      <td>0</td>\n",
       "    </tr>\n",
       "    <tr>\n",
       "      <th>87977</th>\n",
       "      <td>8</td>\n",
       "      <td>0.0</td>\n",
       "      <td>0</td>\n",
       "      <td>0</td>\n",
       "      <td>0</td>\n",
       "      <td>0</td>\n",
       "      <td>7</td>\n",
       "      <td>0</td>\n",
       "    </tr>\n",
       "    <tr>\n",
       "      <th>63923</th>\n",
       "      <td>4</td>\n",
       "      <td>0.0</td>\n",
       "      <td>0</td>\n",
       "      <td>0</td>\n",
       "      <td>0</td>\n",
       "      <td>0</td>\n",
       "      <td>7</td>\n",
       "      <td>0</td>\n",
       "    </tr>\n",
       "    <tr>\n",
       "      <th>...</th>\n",
       "      <td>...</td>\n",
       "      <td>...</td>\n",
       "      <td>...</td>\n",
       "      <td>...</td>\n",
       "      <td>...</td>\n",
       "      <td>...</td>\n",
       "      <td>...</td>\n",
       "      <td>...</td>\n",
       "    </tr>\n",
       "    <tr>\n",
       "      <th>10874</th>\n",
       "      <td>5</td>\n",
       "      <td>656.0</td>\n",
       "      <td>1</td>\n",
       "      <td>1</td>\n",
       "      <td>0</td>\n",
       "      <td>0</td>\n",
       "      <td>2</td>\n",
       "      <td>2</td>\n",
       "    </tr>\n",
       "    <tr>\n",
       "      <th>10875</th>\n",
       "      <td>12</td>\n",
       "      <td>421.0</td>\n",
       "      <td>1</td>\n",
       "      <td>0</td>\n",
       "      <td>0</td>\n",
       "      <td>0</td>\n",
       "      <td>1</td>\n",
       "      <td>2</td>\n",
       "    </tr>\n",
       "    <tr>\n",
       "      <th>10852</th>\n",
       "      <td>3</td>\n",
       "      <td>749.0</td>\n",
       "      <td>1</td>\n",
       "      <td>0</td>\n",
       "      <td>0</td>\n",
       "      <td>0</td>\n",
       "      <td>3</td>\n",
       "      <td>2</td>\n",
       "    </tr>\n",
       "    <tr>\n",
       "      <th>11232</th>\n",
       "      <td>11</td>\n",
       "      <td>534.0</td>\n",
       "      <td>1</td>\n",
       "      <td>1</td>\n",
       "      <td>0</td>\n",
       "      <td>0</td>\n",
       "      <td>3</td>\n",
       "      <td>2</td>\n",
       "    </tr>\n",
       "    <tr>\n",
       "      <th>11233</th>\n",
       "      <td>3</td>\n",
       "      <td>782.0</td>\n",
       "      <td>1</td>\n",
       "      <td>0</td>\n",
       "      <td>0</td>\n",
       "      <td>0</td>\n",
       "      <td>3</td>\n",
       "      <td>2</td>\n",
       "    </tr>\n",
       "  </tbody>\n",
       "</table>\n",
       "<p>69999 rows × 8 columns</p>\n",
       "</div>"
      ],
      "text/plain": [
       "       Date  Customers  Open  Promo  StateHoliday  SchoolHoliday  DayOfWeek  \\\n",
       "67488     5        0.0     0      0             0              0          7   \n",
       "41193     6        0.0     0      0             0              0          7   \n",
       "75667     4        0.0     0      0             0              0          7   \n",
       "87977     8        0.0     0      0             0              0          7   \n",
       "63923     4        0.0     0      0             0              0          7   \n",
       "...     ...        ...   ...    ...           ...            ...        ...   \n",
       "10874     5      656.0     1      1             0              0          2   \n",
       "10875    12      421.0     1      0             0              0          1   \n",
       "10852     3      749.0     1      0             0              0          3   \n",
       "11232    11      534.0     1      1             0              0          3   \n",
       "11233     3      782.0     1      0             0              0          3   \n",
       "\n",
       "      Sales Category  \n",
       "67488              0  \n",
       "41193              0  \n",
       "75667              0  \n",
       "87977              0  \n",
       "63923              0  \n",
       "...              ...  \n",
       "10874              2  \n",
       "10875              2  \n",
       "10852              2  \n",
       "11232              2  \n",
       "11233              2  \n",
       "\n",
       "[69999 rows x 8 columns]"
      ]
     },
     "metadata": {},
     "output_type": "display_data"
    },
    {
     "name": "stdout",
     "output_type": "stream",
     "text": [
      "> Test:\n"
     ]
    },
    {
     "data": {
      "text/html": [
       "<div>\n",
       "<style scoped>\n",
       "    .dataframe tbody tr th:only-of-type {\n",
       "        vertical-align: middle;\n",
       "    }\n",
       "\n",
       "    .dataframe tbody tr th {\n",
       "        vertical-align: top;\n",
       "    }\n",
       "\n",
       "    .dataframe thead th {\n",
       "        text-align: right;\n",
       "    }\n",
       "</style>\n",
       "<table border=\"1\" class=\"dataframe\">\n",
       "  <thead>\n",
       "    <tr style=\"text-align: right;\">\n",
       "      <th></th>\n",
       "      <th>Date</th>\n",
       "      <th>Customers</th>\n",
       "      <th>Open</th>\n",
       "      <th>Promo</th>\n",
       "      <th>StateHoliday</th>\n",
       "      <th>SchoolHoliday</th>\n",
       "      <th>DayOfWeek</th>\n",
       "      <th>Sales Category</th>\n",
       "    </tr>\n",
       "  </thead>\n",
       "  <tbody>\n",
       "    <tr>\n",
       "      <th>11234</th>\n",
       "      <td>8</td>\n",
       "      <td>666.0</td>\n",
       "      <td>1</td>\n",
       "      <td>1</td>\n",
       "      <td>0</td>\n",
       "      <td>1</td>\n",
       "      <td>4</td>\n",
       "      <td>2</td>\n",
       "    </tr>\n",
       "    <tr>\n",
       "      <th>11547</th>\n",
       "      <td>5</td>\n",
       "      <td>630.0</td>\n",
       "      <td>1</td>\n",
       "      <td>0</td>\n",
       "      <td>0</td>\n",
       "      <td>0</td>\n",
       "      <td>6</td>\n",
       "      <td>2</td>\n",
       "    </tr>\n",
       "    <tr>\n",
       "      <th>11548</th>\n",
       "      <td>4</td>\n",
       "      <td>533.0</td>\n",
       "      <td>1</td>\n",
       "      <td>1</td>\n",
       "      <td>0</td>\n",
       "      <td>0</td>\n",
       "      <td>2</td>\n",
       "      <td>2</td>\n",
       "    </tr>\n",
       "    <tr>\n",
       "      <th>11553</th>\n",
       "      <td>6</td>\n",
       "      <td>1012.0</td>\n",
       "      <td>1</td>\n",
       "      <td>1</td>\n",
       "      <td>0</td>\n",
       "      <td>0</td>\n",
       "      <td>3</td>\n",
       "      <td>2</td>\n",
       "    </tr>\n",
       "    <tr>\n",
       "      <th>11554</th>\n",
       "      <td>5</td>\n",
       "      <td>853.0</td>\n",
       "      <td>1</td>\n",
       "      <td>0</td>\n",
       "      <td>0</td>\n",
       "      <td>0</td>\n",
       "      <td>4</td>\n",
       "      <td>2</td>\n",
       "    </tr>\n",
       "    <tr>\n",
       "      <th>...</th>\n",
       "      <td>...</td>\n",
       "      <td>...</td>\n",
       "      <td>...</td>\n",
       "      <td>...</td>\n",
       "      <td>...</td>\n",
       "      <td>...</td>\n",
       "      <td>...</td>\n",
       "      <td>...</td>\n",
       "    </tr>\n",
       "    <tr>\n",
       "      <th>84982</th>\n",
       "      <td>1</td>\n",
       "      <td>851.0</td>\n",
       "      <td>1</td>\n",
       "      <td>1</td>\n",
       "      <td>0</td>\n",
       "      <td>0</td>\n",
       "      <td>1</td>\n",
       "      <td>4</td>\n",
       "    </tr>\n",
       "    <tr>\n",
       "      <th>61875</th>\n",
       "      <td>11</td>\n",
       "      <td>944.0</td>\n",
       "      <td>1</td>\n",
       "      <td>1</td>\n",
       "      <td>0</td>\n",
       "      <td>0</td>\n",
       "      <td>1</td>\n",
       "      <td>4</td>\n",
       "    </tr>\n",
       "    <tr>\n",
       "      <th>61872</th>\n",
       "      <td>7</td>\n",
       "      <td>717.0</td>\n",
       "      <td>1</td>\n",
       "      <td>1</td>\n",
       "      <td>0</td>\n",
       "      <td>0</td>\n",
       "      <td>3</td>\n",
       "      <td>4</td>\n",
       "    </tr>\n",
       "    <tr>\n",
       "      <th>17170</th>\n",
       "      <td>5</td>\n",
       "      <td>1684.0</td>\n",
       "      <td>1</td>\n",
       "      <td>0</td>\n",
       "      <td>0</td>\n",
       "      <td>0</td>\n",
       "      <td>5</td>\n",
       "      <td>4</td>\n",
       "    </tr>\n",
       "    <tr>\n",
       "      <th>26623</th>\n",
       "      <td>1</td>\n",
       "      <td>1360.0</td>\n",
       "      <td>1</td>\n",
       "      <td>1</td>\n",
       "      <td>0</td>\n",
       "      <td>0</td>\n",
       "      <td>2</td>\n",
       "      <td>4</td>\n",
       "    </tr>\n",
       "  </tbody>\n",
       "</table>\n",
       "<p>30000 rows × 8 columns</p>\n",
       "</div>"
      ],
      "text/plain": [
       "       Date  Customers  Open  Promo  StateHoliday  SchoolHoliday  DayOfWeek  \\\n",
       "11234     8      666.0     1      1             0              1          4   \n",
       "11547     5      630.0     1      0             0              0          6   \n",
       "11548     4      533.0     1      1             0              0          2   \n",
       "11553     6     1012.0     1      1             0              0          3   \n",
       "11554     5      853.0     1      0             0              0          4   \n",
       "...     ...        ...   ...    ...           ...            ...        ...   \n",
       "84982     1      851.0     1      1             0              0          1   \n",
       "61875    11      944.0     1      1             0              0          1   \n",
       "61872     7      717.0     1      1             0              0          3   \n",
       "17170     5     1684.0     1      0             0              0          5   \n",
       "26623     1     1360.0     1      1             0              0          2   \n",
       "\n",
       "      Sales Category  \n",
       "11234              2  \n",
       "11547              2  \n",
       "11548              2  \n",
       "11553              2  \n",
       "11554              2  \n",
       "...              ...  \n",
       "84982              4  \n",
       "61875              4  \n",
       "61872              4  \n",
       "17170              4  \n",
       "26623              4  \n",
       "\n",
       "[30000 rows x 8 columns]"
      ]
     },
     "metadata": {},
     "output_type": "display_data"
    }
   ],
   "source": [
    "bad_train = data[:int(data.shape[0] * 0.7)].copy()\n",
    "bad_test = data[int(data.shape[0] * 0.7):].copy()\n",
    "\n",
    "print(\"> Train:\")\n",
    "display(bad_train)\n",
    "\n",
    "print(\"> Test:\")\n",
    "display(bad_test)"
   ]
  },
  {
   "cell_type": "markdown",
   "id": "96598020",
   "metadata": {},
   "source": [
    "Definimos una lista con las features y el target:"
   ]
  },
  {
   "cell_type": "code",
   "execution_count": 48,
   "id": "afe46069",
   "metadata": {},
   "outputs": [],
   "source": [
    "features = ['Date', 'Customers', 'Open', 'Promo', 'StateHoliday', 'DayOfWeek']\n",
    "target = 'Sales Category'"
   ]
  },
  {
   "cell_type": "markdown",
   "id": "J4U4MS21EWtf",
   "metadata": {
    "id": "J4U4MS21EWtf"
   },
   "source": [
    "Creamos matrices X y vectores y para train y test"
   ]
  },
  {
   "cell_type": "code",
   "execution_count": 49,
   "id": "a505c380",
   "metadata": {
    "id": "a505c380"
   },
   "outputs": [],
   "source": [
    "X_bad_train, y_bad_train = bad_train[features], bad_train[target]\n",
    "X_bad_test, y_bad_test = bad_test[features], bad_test[target]"
   ]
  },
  {
   "cell_type": "markdown",
   "id": "r3JzYMLucb08",
   "metadata": {
    "id": "r3JzYMLucb08"
   },
   "source": [
    "```criterion``` corresponde a la métrica usada para priorizar y elegir ciertos atributos por sobre otros, es decir es la métrica que define la construcción del árbol (como la entropía). ```max_depth``` corresponde a la profundidad máxima que puede tener el árbol (en términos de \"capas\"). ```n_estimators``` es la cantidad de árboles van a componer el RandomForest."
   ]
  },
  {
   "cell_type": "markdown",
   "id": "ZDSHvSE_EZyo",
   "metadata": {
    "id": "ZDSHvSE_EZyo"
   },
   "source": [
    "Hacemos el estudio de hiperparámetros con distintos valores de ```criterion```, ```max_depth``` y ```n_estimators``` utilizando ```cross_val_score```. Esta función recibe el *dataset* que se le entrega y hace ```cv``` divisiones de este set, generando distintos sets de validación y calculando la métrica establecida (en este caso *accuracy*). De esta forma, el set de validación está implícito en la función:"
   ]
  },
  {
   "cell_type": "code",
   "execution_count": 50,
   "id": "9otBCdDgAgR6",
   "metadata": {
    "colab": {
     "base_uri": "https://localhost:8080/"
    },
    "id": "9otBCdDgAgR6",
    "outputId": "847abb05-68f7-4b2b-e376-988568599187",
    "scrolled": false
   },
   "outputs": [
    {
     "name": "stdout",
     "output_type": "stream",
     "text": [
      "   criterion    max_depth            n     accuracy\n",
      "        gini          5.0         50.0       0.8959\n",
      "        gini          5.0         75.0       0.8966\n",
      "        gini          5.0        100.0       0.8963\n",
      "        gini         10.0         50.0       0.8977\n",
      "        gini         10.0         75.0       0.8980\n",
      "        gini         10.0        100.0       0.8983\n",
      "        gini         20.0         50.0       0.8743\n",
      "        gini         20.0         75.0       0.8748\n",
      "        gini         20.0        100.0       0.8747\n",
      "        gini         30.0         50.0       0.8708\n",
      "        gini         30.0         75.0       0.8720\n",
      "        gini         30.0        100.0       0.8715\n",
      "     entropy          5.0         50.0       0.8940\n",
      "     entropy          5.0         75.0       0.8918\n",
      "     entropy          5.0        100.0       0.8941\n",
      "     entropy         10.0         50.0       0.8980\n",
      "     entropy         10.0         75.0       0.8981\n",
      "     entropy         10.0        100.0       0.8984\n",
      "     entropy         20.0         50.0       0.8753\n",
      "     entropy         20.0         75.0       0.8754\n",
      "     entropy         20.0        100.0       0.8766\n",
      "     entropy         30.0         50.0       0.8710\n",
      "     entropy         30.0         75.0       0.8718\n",
      "     entropy         30.0        100.0       0.8715\n",
      "\n",
      "mejor modelo: RandomForestClassifier(criterion='entropy', max_depth=10)\n",
      "accuracy mejor modelo: 0.8983985233639137\n"
     ]
    }
   ],
   "source": [
    "best_acc_forest = 0\n",
    "print(\"%12s %12s %12s %12s\" % (\"criterion\", \"max_depth\", \"n\", \"accuracy\"))\n",
    "\n",
    "for crit in [\"gini\", \"entropy\"]:\n",
    "    for d in [5, 10, 20, 30]:\n",
    "        for n in [50, 75, 100]:\n",
    "\n",
    "            forest_model = RandomForestClassifier(criterion=crit, max_depth=d, n_estimators=n)\n",
    "            acc = cross_val_score(forest_model, X_bad_train, y_bad_train, cv = 5, scoring='accuracy').mean()\n",
    "\n",
    "            if acc > best_acc_forest:\n",
    "                best_acc_forest = acc\n",
    "                best_forest = forest_model\n",
    "\n",
    "            print(\"%12.7s %12.1f %12.1f %12.4f\" % (crit, d, n, acc))\n",
    "\n",
    "print()\n",
    "print(f\"mejor modelo: {best_forest}\")\n",
    "print(f\"accuracy mejor modelo: {best_acc_forest}\")"
   ]
  },
  {
   "cell_type": "markdown",
   "id": "5FMZ46ZAElXN",
   "metadata": {
    "id": "5FMZ46ZAElXN"
   },
   "source": [
    "Entrenamos nuevamente el mejor clasificador encontrado en la celda anterior:"
   ]
  },
  {
   "cell_type": "code",
   "execution_count": 20,
   "id": "iiDgAu5UBLLV",
   "metadata": {
    "colab": {
     "base_uri": "https://localhost:8080/"
    },
    "id": "iiDgAu5UBLLV",
    "outputId": "b9f67ab8-f0a0-4c52-b96c-3367b3376586"
   },
   "outputs": [
    {
     "data": {
      "text/plain": [
       "RandomForestClassifier(criterion='entropy', max_depth=10, n_estimators=75)"
      ]
     },
     "execution_count": 20,
     "metadata": {},
     "output_type": "execute_result"
    }
   ],
   "source": [
    "best_forest.fit(X_bad_train, y_bad_train)"
   ]
  },
  {
   "cell_type": "markdown",
   "id": "oQp1-2TYEsDs",
   "metadata": {
    "id": "oQp1-2TYEsDs"
   },
   "source": [
    "Probamos nuestro clasificador en el set de train"
   ]
  },
  {
   "cell_type": "code",
   "execution_count": 21,
   "id": "wpKoHjlEBPTT",
   "metadata": {
    "colab": {
     "base_uri": "https://localhost:8080/"
    },
    "id": "wpKoHjlEBPTT",
    "outputId": "9430592b-b791-409c-c775-9d4b4782eb42"
   },
   "outputs": [
    {
     "name": "stdout",
     "output_type": "stream",
     "text": [
      "> Accuracy en train: 0.9022\n"
     ]
    }
   ],
   "source": [
    "y_pred = best_forest.predict(X_bad_train)\n",
    "acc = accuracy_score(y_bad_train, y_pred)\n",
    "print(f'> Accuracy en train: {round(acc, 4)}')"
   ]
  },
  {
   "cell_type": "markdown",
   "id": "NGUoAYfeEzsE",
   "metadata": {
    "id": "NGUoAYfeEzsE"
   },
   "source": [
    "Ahora, probamos el clasificador en el set de test:"
   ]
  },
  {
   "cell_type": "code",
   "execution_count": 22,
   "id": "VKtsACwSDtL9",
   "metadata": {
    "colab": {
     "base_uri": "https://localhost:8080/"
    },
    "id": "VKtsACwSDtL9",
    "outputId": "707e81dd-39ff-4b76-a41b-1a924bfdffe5"
   },
   "outputs": [
    {
     "name": "stdout",
     "output_type": "stream",
     "text": [
      "> Accuracy en test: 0.3136\n"
     ]
    }
   ],
   "source": [
    "y_pred = best_forest.predict(X_bad_test)\n",
    "acc = accuracy_score(y_bad_test, y_pred)\n",
    "print(f'> Accuracy en test: {round(acc, 4)}')"
   ]
  },
  {
   "cell_type": "markdown",
   "id": "tJj4nQT2E2ts",
   "metadata": {
    "id": "tJj4nQT2E2ts"
   },
   "source": [
    "Creamos una nueva matriz X y vector y de manera de tener solo las ventas muy altas (hay muchas maneras):"
   ]
  },
  {
   "cell_type": "code",
   "execution_count": 23,
   "id": "gygNlKZdCOte",
   "metadata": {
    "id": "gygNlKZdCOte"
   },
   "outputs": [],
   "source": [
    "X_test_high = X_bad_test.loc[y_bad_test.loc[y_bad_test == 4].index][features]\n",
    "y_test_high = y_bad_test.loc[y_bad_test == 4]"
   ]
  },
  {
   "cell_type": "markdown",
   "id": "dJgC-Rf9E9BF",
   "metadata": {
    "id": "dJgC-Rf9E9BF"
   },
   "source": [
    "Probamos nuestro clasificador en el set solo con instancias de la categoría \"Very High Sales\""
   ]
  },
  {
   "cell_type": "code",
   "execution_count": 24,
   "id": "AtrqSavTASZq",
   "metadata": {
    "colab": {
     "base_uri": "https://localhost:8080/"
    },
    "id": "AtrqSavTASZq",
    "outputId": "5ceeaff6-5959-4b30-fd89-36285b28b4bb"
   },
   "outputs": [
    {
     "name": "stdout",
     "output_type": "stream",
     "text": [
      "> Accuracy en test (ventas muy altas): 0.0\n"
     ]
    }
   ],
   "source": [
    "y_pred = best_forest.predict(X_test_high)\n",
    "acc = accuracy_score(y_test_high, y_pred)\n",
    "print(f'> Accuracy en test (ventas muy altas): {round(acc, 4)}')"
   ]
  },
  {
   "cell_type": "markdown",
   "id": "9NjrIKpCFAA8",
   "metadata": {
    "id": "9NjrIKpCFAA8"
   },
   "source": [
    "Claramente, el rendimiento en el set de train es notablemente superior y en test es muy bajo, especialmente cuando solo trabajamos con ventas muy altas. Esto se debe a que, al haber ordenado el *dataset* por ventas (categóricamente) y ocupar el primer 70% para train, hay categorías como la correspondiente a ventas muy altas (4) que no fueron usadas para el entrenamiento y, por ende, no sabe que esa categoría existe."
   ]
  },
  {
   "cell_type": "markdown",
   "id": "wCNB6eHY_YPi",
   "metadata": {
    "id": "wCNB6eHY_YPi"
   },
   "source": [
    "## Actividad 5\n"
   ]
  },
  {
   "cell_type": "markdown",
   "id": "O0PLbYr9Gkqf",
   "metadata": {
    "id": "O0PLbYr9Gkqf"
   },
   "source": [
    "Separación de los datos en 70% train y 30% test usando ```train_test_split``` de SKlearn. Esta función se encarga de mantener la proporción de categorías balanceada entre train y test:"
   ]
  },
  {
   "cell_type": "code",
   "execution_count": 25,
   "id": "zoIDfLEx_YPo",
   "metadata": {
    "id": "zoIDfLEx_YPo"
   },
   "outputs": [],
   "source": [
    "X_train, X_test, y_train, y_test = train_test_split(data[features], data[target], test_size=0.30)"
   ]
  },
  {
   "cell_type": "markdown",
   "id": "XgGLKGGxHAeX",
   "metadata": {
    "id": "XgGLKGGxHAeX"
   },
   "source": [
    "Cantidad de instancias de cada clase en set de train"
   ]
  },
  {
   "cell_type": "code",
   "execution_count": 26,
   "id": "57136ae3",
   "metadata": {},
   "outputs": [
    {
     "data": {
      "image/png": "[encoded data removed]",
      "text/plain": [
       "<Figure size 720x576 with 1 Axes>"
      ]
     },
     "metadata": {
      "needs_background": "light"
     },
     "output_type": "display_data"
    }
   ],
   "source": [
    "data.loc[y_train.index]['Sales Category'].hist(figsize=(10,8))\n",
    "plt.title('Histograma ventas registradas por categoría (train)', fontsize = 18)\n",
    "plt.xlabel('Categoria de Ventas', fontsize = 14)\n",
    "plt.ylabel('Cantidad de registros', fontsize = 14)\n",
    "plt.show()"
   ]
  },
  {
   "cell_type": "markdown",
   "id": "0e0cfce1",
   "metadata": {},
   "source": [
    "Lo mismo para el set de test:"
   ]
  },
  {
   "cell_type": "code",
   "execution_count": 27,
   "id": "7Ab0BJr8GkNn",
   "metadata": {
    "colab": {
     "base_uri": "https://localhost:8080/"
    },
    "id": "7Ab0BJr8GkNn",
    "outputId": "7befff30-4fa1-4dce-8c53-bb2b6d71ca16"
   },
   "outputs": [
    {
     "data": {
      "image/png": "[encoded data removed]",
      "text/plain": [
       "<Figure size 720x576 with 1 Axes>"
      ]
     },
     "metadata": {
      "needs_background": "light"
     },
     "output_type": "display_data"
    }
   ],
   "source": [
    "data.loc[y_test.index]['Sales Category'].hist(figsize=(10,8))\n",
    "plt.title('Histograma ventas registradas por categoría (test)', fontsize = 18)\n",
    "plt.xlabel('Categoria de Ventas', fontsize = 14)\n",
    "plt.ylabel('Cantidad de registros', fontsize = 14)\n",
    "plt.show()"
   ]
  },
  {
   "cell_type": "markdown",
   "id": "x6sgAnCiHG8n",
   "metadata": {
    "id": "x6sgAnCiHG8n"
   },
   "source": [
    "Vemos que las proporciones se mantienen con respecto al set original y entre train y set. Ahora, buscamos hiper-parámetros para entrenar un buen modelo:"
   ]
  },
  {
   "cell_type": "code",
   "execution_count": 28,
   "id": "8b084869",
   "metadata": {},
   "outputs": [
    {
     "name": "stdout",
     "output_type": "stream",
     "text": [
      "   criterion    max_depth            n     accuracy\n",
      "        gini          5.0         50.0       0.7709\n",
      "        gini          5.0         75.0       0.7715\n",
      "        gini          5.0        100.0       0.7727\n",
      "        gini         10.0         50.0       0.7876\n",
      "        gini         10.0         75.0       0.7883\n",
      "        gini         10.0        100.0       0.7876\n",
      "        gini         20.0         50.0       0.7504\n",
      "        gini         20.0         75.0       0.7509\n",
      "        gini         20.0        100.0       0.7513\n",
      "        gini         30.0         50.0       0.7292\n",
      "        gini         30.0         75.0       0.7298\n",
      "        gini         30.0        100.0       0.7306\n",
      "     entropy          5.0         50.0       0.7589\n",
      "     entropy          5.0         75.0       0.7607\n",
      "     entropy          5.0        100.0       0.7573\n",
      "     entropy         10.0         50.0       0.7872\n",
      "     entropy         10.0         75.0       0.7876\n",
      "     entropy         10.0        100.0       0.7872\n",
      "     entropy         20.0         50.0       0.7455\n",
      "     entropy         20.0         75.0       0.7457\n",
      "     entropy         20.0        100.0       0.7454\n",
      "     entropy         30.0         50.0       0.7319\n",
      "     entropy         30.0         75.0       0.7315\n",
      "     entropy         30.0        100.0       0.7321\n",
      "\n",
      "mejor modelo: RandomForestClassifier(max_depth=10, n_estimators=75)\n",
      "accuracy mejor modelo: 0.7882541120284102\n"
     ]
    }
   ],
   "source": [
    "best_acc_forest = 0\n",
    "print(\"%12s %12s %12s %12s\" % (\"criterion\", \"max_depth\", \"n\", \"accuracy\"))\n",
    "\n",
    "for crit in [\"gini\", \"entropy\"]:\n",
    "    for d in [5, 10, 20, 30]:\n",
    "        for n in [50, 75, 100]:\n",
    "\n",
    "            forest_model = RandomForestClassifier(criterion=crit, max_depth=d, n_estimators=n)\n",
    "            acc = cross_val_score(forest_model, X_train, y_train, cv = 5, scoring='accuracy').mean()\n",
    "\n",
    "            if acc > best_acc_forest:\n",
    "                best_acc_forest = acc\n",
    "                best_forest = forest_model\n",
    "\n",
    "            print(\"%12.7s %12.1f %12.1f %12.4f\" % (crit, d, n, acc))\n",
    "\n",
    "print()\n",
    "print(f\"mejor modelo: {best_forest}\")\n",
    "print(f\"accuracy mejor modelo: {best_acc_forest}\")"
   ]
  },
  {
   "cell_type": "markdown",
   "id": "1a74b821",
   "metadata": {},
   "source": [
    "Entrenamos el modelo encontrado en el set de train:"
   ]
  },
  {
   "cell_type": "code",
   "execution_count": 29,
   "id": "wUYctFxg_YPo",
   "metadata": {
    "colab": {
     "base_uri": "https://localhost:8080/"
    },
    "id": "wUYctFxg_YPo",
    "outputId": "c68d6a22-d429-4cb2-a278-2fd5d4160a7b"
   },
   "outputs": [
    {
     "data": {
      "text/plain": [
       "RandomForestClassifier(max_depth=10, n_estimators=75)"
      ]
     },
     "execution_count": 29,
     "metadata": {},
     "output_type": "execute_result"
    }
   ],
   "source": [
    "best_forest.fit(X_train, y_train)"
   ]
  },
  {
   "cell_type": "markdown",
   "id": "h3JMYLI3JgtX",
   "metadata": {
    "id": "h3JMYLI3JgtX"
   },
   "source": [
    "Probamos nuestro clasificador en el set de train"
   ]
  },
  {
   "cell_type": "code",
   "execution_count": 30,
   "id": "_t4KZJcv_YPo",
   "metadata": {
    "colab": {
     "base_uri": "https://localhost:8080/"
    },
    "id": "_t4KZJcv_YPo",
    "outputId": "bf3c7f4f-ff70-4911-b40b-5d3feffdefc5"
   },
   "outputs": [
    {
     "name": "stdout",
     "output_type": "stream",
     "text": [
      "> Accuracy en train: 0.7973\n"
     ]
    }
   ],
   "source": [
    "y_pred = best_forest.predict(X_train)\n",
    "acc = accuracy_score(y_train, y_pred)\n",
    "print(f'> Accuracy en train: {round(acc, 4)}')"
   ]
  },
  {
   "cell_type": "markdown",
   "id": "JPPf5H0xJgYA",
   "metadata": {
    "id": "JPPf5H0xJgYA"
   },
   "source": [
    "Probamos nuestro clasificador en el set de test"
   ]
  },
  {
   "cell_type": "code",
   "execution_count": 31,
   "id": "u-H8Q4Hz_YPo",
   "metadata": {
    "colab": {
     "base_uri": "https://localhost:8080/"
    },
    "id": "u-H8Q4Hz_YPo",
    "outputId": "b5f320a5-c3fc-4df1-a574-f6cb45215ae4"
   },
   "outputs": [
    {
     "name": "stdout",
     "output_type": "stream",
     "text": [
      "> Accuracy en test: 0.7959\n"
     ]
    }
   ],
   "source": [
    "y_pred = best_forest.predict(X_test)\n",
    "acc = accuracy_score(y_test, y_pred)\n",
    "print(f'> Accuracy en test: {round(acc, 4)}')"
   ]
  },
  {
   "cell_type": "markdown",
   "id": "xGGvHmssJdgg",
   "metadata": {
    "id": "xGGvHmssJdgg"
   },
   "source": [
    "Probamos nuestro clasificador en el set solo con instancias de la categoría de ventas muy altas (4), para eso las filtramos nuevamente:"
   ]
  },
  {
   "cell_type": "code",
   "execution_count": 32,
   "id": "f91d2ee5",
   "metadata": {
    "id": "gygNlKZdCOte"
   },
   "outputs": [],
   "source": [
    "X_test_high = X_test.loc[y_test.loc[y_test == 4].index][features]\n",
    "y_test_high = y_test.loc[y_test == 4]"
   ]
  },
  {
   "cell_type": "markdown",
   "id": "7787f32a",
   "metadata": {},
   "source": [
    "Probamos el rendimiento:"
   ]
  },
  {
   "cell_type": "code",
   "execution_count": 33,
   "id": "lZU81eybGCct",
   "metadata": {
    "colab": {
     "base_uri": "https://localhost:8080/"
    },
    "id": "lZU81eybGCct",
    "outputId": "05e5800e-6942-4805-9bb3-3302b41fc4c2"
   },
   "outputs": [
    {
     "name": "stdout",
     "output_type": "stream",
     "text": [
      "> Accuracy en test (ventas muy altas): 0.6976\n"
     ]
    }
   ],
   "source": [
    "y_pred = best_forest.predict(X_test_high)\n",
    "acc = accuracy_score(y_test_high, y_pred)\n",
    "print(f'> Accuracy en test (ventas muy altas): {round(acc, 4)}')"
   ]
  },
  {
   "cell_type": "markdown",
   "id": "37BxpqQdRH_F",
   "metadata": {
    "id": "37BxpqQdRH_F"
   },
   "source": [
    "Vemos que el rendimiento es mucho más constante que en la primera parte y que el modelo mantiene relativamente bien su rendimiento con la categoría de ventas muy altas, ya que en el entrenamiento también recibió instancias correspondientes a esta categoría."
   ]
  },
  {
   "cell_type": "markdown",
   "id": "96257cc2",
   "metadata": {
    "id": "96257cc2"
   },
   "source": [
    "## Actividad 6\n"
   ]
  },
  {
   "cell_type": "markdown",
   "id": "QSLngP44K1PR",
   "metadata": {
    "id": "QSLngP44K1PR"
   },
   "source": [
    "Creamos nuestra matriz de confusión"
   ]
  },
  {
   "cell_type": "code",
   "execution_count": 34,
   "id": "220WV968GaOO",
   "metadata": {
    "colab": {
     "base_uri": "https://localhost:8080/",
     "height": 597
    },
    "id": "220WV968GaOO",
    "outputId": "55319d42-1abc-4a9b-b86b-2467bb54b3bc"
   },
   "outputs": [
    {
     "name": "stderr",
     "output_type": "stream",
     "text": [
      "C:\\Users\\ferna\\AppData\\Local\\Programs\\Python\\Python39\\lib\\site-packages\\sklearn\\utils\\deprecation.py:87: FutureWarning: Function plot_confusion_matrix is deprecated; Function `plot_confusion_matrix` is deprecated in 1.0 and will be removed in 1.2. Use one of the class methods: ConfusionMatrixDisplay.from_predictions or ConfusionMatrixDisplay.from_estimator.\n",
      "  warnings.warn(msg, category=FutureWarning)\n"
     ]
    },
    {
     "data": {
      "image/png": "[encoded data removed]",
      "text/plain": [
       "<Figure size 720x720 with 2 Axes>"
      ]
     },
     "metadata": {
      "needs_background": "light"
     },
     "output_type": "display_data"
    }
   ],
   "source": [
    "fig, ax = plt.subplots(figsize=(10, 10))\n",
    "plot_confusion_matrix(best_forest, X_test, y_test, ax=ax, values_format=\".0f\", labels=[0, 1, 2, 3, 4])\n",
    "plt.show()"
   ]
  },
  {
   "cell_type": "markdown",
   "id": "SvbywD6tKSIo",
   "metadata": {
    "id": "SvbywD6tKSIo"
   },
   "source": [
    "La categoría que más se confunden entre sí son High Sales y Medium Sales. Podemos ver que 1276 instancias de High Sales fueron erroneamente clasificadas como Medium Sales, y 977 instancias de Medium Sales fueron erroneamente clasificadas como High Sales. Esto es normal, puesto que lo esperable es que las categorías menos extremistas (i.e. intermedias) tengan una división más difusa en sus límites."
   ]
  },
  {
   "cell_type": "markdown",
   "id": "U5QJXIyZKt-w",
   "metadata": {
    "id": "U5QJXIyZKt-w"
   },
   "source": [
    "## Actividad 7"
   ]
  },
  {
   "cell_type": "markdown",
   "id": "3DrTv4vgYd5r",
   "metadata": {
    "id": "3DrTv4vgYd5r"
   },
   "source": [
    "La precisión mide la proporción de instancias clasificadas correctamente como \"X\" sobre el total de instancias correspondientes a la categoría \"X\". En nuestro contexto, si, por ejemplo, quisieramos medir la precisión, es equivalente a decir \"si decimos que algo es de una categoría, cuántas veces acertamos\"\n",
    "\n",
    "Por otro lado *recall* mide la proporción de instancias clasificadas correctamente en una categoría sobre ese valor más los falsos-negativos. De este modo, el *recall* es equivalente a decir \"de las instancias que pertenecen a una categoría, cuántas estoy detectando\"\n",
    "\n",
    "Un ejemplo donde sería conveniente priorizar precisión, podría ser si quisieramos construir un recomendador de videos, queremos asegurarnos de que casi todos los videos recomendados sean relevantes para el usuario, por lo que queremos una precisión alta.\n",
    "\n",
    "Un ejemplo donde sería conveniente priorizar *recall*, podría ser si queremos detectar problemas al corazón en pacientes. En este caso, queremos asegurarnos de que el clasificador tenga un alto *recall*, de modo que se detecten correctamente la mayor cantidad posible de pacientes con problemas al corazón, a pesar de que podamos decir a algunas personas sanas que estén enfermas.\n"
   ]
  },
  {
   "cell_type": "markdown",
   "id": "wSIMNHpzcH7L",
   "metadata": {
    "id": "wSIMNHpzcH7L"
   },
   "source": [
    "Precisión de nuestro modelo"
   ]
  },
  {
   "cell_type": "code",
   "execution_count": 35,
   "id": "wwE8CG0BV5o4",
   "metadata": {
    "colab": {
     "base_uri": "https://localhost:8080/"
    },
    "id": "wwE8CG0BV5o4",
    "outputId": "8a2fc301-bd32-4b52-85af-98ec8cc5973d"
   },
   "outputs": [
    {
     "data": {
      "text/plain": [
       "0.743030690438616"
      ]
     },
     "execution_count": 35,
     "metadata": {},
     "output_type": "execute_result"
    }
   ],
   "source": [
    "y_pred = best_forest.predict(X_test)\n",
    "precision = precision_score(y_test, y_pred, average='macro')\n",
    "precision"
   ]
  },
  {
   "cell_type": "markdown",
   "id": "PeoUtcuBcKwJ",
   "metadata": {
    "id": "PeoUtcuBcKwJ"
   },
   "source": [
    "*Recall* de nuestro modelo"
   ]
  },
  {
   "cell_type": "code",
   "execution_count": 36,
   "id": "--a-0m9CWFo_",
   "metadata": {
    "colab": {
     "base_uri": "https://localhost:8080/"
    },
    "id": "--a-0m9CWFo_",
    "outputId": "19c71d10-6c14-4091-f07d-c95dfd0c26b9"
   },
   "outputs": [
    {
     "data": {
      "text/plain": [
       "0.6712736793892906"
      ]
     },
     "execution_count": 36,
     "metadata": {},
     "output_type": "execute_result"
    }
   ],
   "source": [
    "recall = recall_score(y_test, y_pred, average='macro')\n",
    "recall"
   ]
  },
  {
   "cell_type": "markdown",
   "id": "656fcc19",
   "metadata": {
    "id": "656fcc19"
   },
   "source": [
    "## Actividad 8\n",
    "\n",
    "No tiene sentido usar una regresión lineal porque no estamos intentando predecir valores continuos, sino que solamente queremos clasificar la categoría correspondiente al nivel de ventas en base a características de una instancia determinada."
   ]
  }
 ],
 "metadata": {
  "colab": {
   "collapsed_sections": [
    "99a6eaa6",
    "b1dbaa9c",
    "22f10756",
    "f1b71b5c",
    "7fd06cdc",
    "wCNB6eHY_YPi",
    "96257cc2",
    "U5QJXIyZKt-w",
    "656fcc19"
   ],
   "name": "T3 IA-2021.ipynb",
   "provenance": []
  },
  "kernelspec": {
   "display_name": "Python 3 (ipykernel)",
   "language": "python",
   "name": "python3"
  },
  "language_info": {
   "codemirror_mode": {
    "name": "ipython",
    "version": 3
   },
   "file_extension": ".py",
   "mimetype": "text/x-python",
   "name": "python",
   "nbconvert_exporter": "python",
   "pygments_lexer": "ipython3",
   "version": "3.9.7"
  }
 },
 "nbformat": 4,
 "nbformat_minor": 5
}
