{
 "cells": [
  {
   "cell_type": "markdown",
   "metadata": {},
   "source": [
    "# Ayudantía: Conceptos Básicos ML\n",
    "\n",
    "En esta ayudantía trabajaremos en los conceptos básicos de machine learning y recorreremos el flujo común que requiere un trabajo de este tipo: **preprocesamiento, entrenamiento/predicción y análisis de resultados**. Para esto la idea es que vayamos soltando la mano con algunas librerías claves, como pandas, numpy, sklearn, etc."
   ]
  },
  {
   "cell_type": "markdown",
   "metadata": {},
   "source": [
    "### Visualización de los datos de países\n",
    "\n",
    "Primero vamos a cargar los `DataFrame` con datos relevantes sobre paises, en particular los nombres, la población, el pib, nivel de alfabetización, entre otros datos que nos van a ayudar a determinar el nivel de mortalidad infantil de cada país. "
   ]
  },
  {
   "cell_type": "markdown",
   "metadata": {},
   "source": [
    "Los siguientes tres bloques exportan codigos.csv (codigos de comuna), población.csv (cuanta gente vive en la comuna) y presupuesto.csv (el presupuesto comunal). Evitamos descrbir más los datasets, pero puedes llamar a una descripción usando dataframe.info()"
   ]
  },
  {
   "cell_type": "code",
   "execution_count": 1,
   "metadata": {},
   "outputs": [
    {
     "name": "stdout",
     "output_type": "stream",
     "text": [
      "<class 'pandas.core.frame.DataFrame'>\n",
      "RangeIndex: 227 entries, 0 to 226\n",
      "Data columns (total 2 columns):\n",
      " #   Column       Non-Null Count  Dtype \n",
      "---  ------       --------------  ----- \n",
      " 0   cod_pais     227 non-null    int64 \n",
      " 1   nombre_pais  227 non-null    object\n",
      "dtypes: int64(1), object(1)\n",
      "memory usage: 3.7+ KB\n"
     ]
    }
   ],
   "source": [
    "import pandas as pd\n",
    "\n",
    "df_codigos = pd.read_csv(\"Codigo Paises.csv\", delimiter=',')\n",
    "df_codigos.info()"
   ]
  },
  {
   "cell_type": "code",
   "execution_count": 2,
   "metadata": {},
   "outputs": [
    {
     "name": "stdout",
     "output_type": "stream",
     "text": [
      "<class 'pandas.core.frame.DataFrame'>\n",
      "RangeIndex: 227 entries, 0 to 226\n",
      "Data columns (total 2 columns):\n",
      " #   Column     Non-Null Count  Dtype\n",
      "---  ------     --------------  -----\n",
      " 0   CODIGO     227 non-null    int64\n",
      " 1   POBLACION  227 non-null    int64\n",
      "dtypes: int64(2)\n",
      "memory usage: 3.7 KB\n"
     ]
    }
   ],
   "source": [
    "df_poblacion = pd.read_csv(\"Poblacion.csv\", delimiter=',')\n",
    "df_poblacion.info()"
   ]
  },
  {
   "cell_type": "code",
   "execution_count": 3,
   "metadata": {},
   "outputs": [
    {
     "name": "stdout",
     "output_type": "stream",
     "text": [
      "<class 'pandas.core.frame.DataFrame'>\n",
      "RangeIndex: 227 entries, 0 to 226\n",
      "Data columns (total 4 columns):\n",
      " #   Column          Non-Null Count  Dtype  \n",
      "---  ------          --------------  -----  \n",
      " 0   COD_PAIS        227 non-null    int64  \n",
      " 1   PIB             226 non-null    object \n",
      " 2   ALFABETIZACION  209 non-null    float64\n",
      " 3   TELEFONOS       223 non-null    float64\n",
      "dtypes: float64(2), int64(1), object(1)\n",
      "memory usage: 7.2+ KB\n"
     ]
    }
   ],
   "source": [
    "df_otros = pd.read_csv(\"PIB-ABC-TEL.csv\", delimiter=',')\n",
    "df_otros.info()"
   ]
  },
  {
   "cell_type": "markdown",
   "metadata": {},
   "source": [
    "### Limpieza\n",
    "\n",
    "Fijate que el ítem PIB es de tipo object, y no int. Por qué será esto? "
   ]
  },
  {
   "cell_type": "code",
   "execution_count": 4,
   "metadata": {},
   "outputs": [
    {
     "name": "stdout",
     "output_type": "stream",
     "text": [
      "<class 'pandas.core.frame.DataFrame'>\n",
      "Int64Index: 206 entries, 0 to 226\n",
      "Data columns (total 4 columns):\n",
      " #   Column          Non-Null Count  Dtype  \n",
      "---  ------          --------------  -----  \n",
      " 0   COD_PAIS        206 non-null    int64  \n",
      " 1   PIB             206 non-null    int32  \n",
      " 2   ALFABETIZACION  206 non-null    float64\n",
      " 3   TELEFONOS       206 non-null    float64\n",
      "dtypes: float64(2), int32(1), int64(1)\n",
      "memory usage: 7.2 KB\n"
     ]
    }
   ],
   "source": [
    "# Nos hacemos cargo de los datos nulos\n",
    "df_otros = df_otros.dropna()\n",
    "\n",
    "\n",
    "# Casteamos el 'PIB'.\n",
    "df_otros['PIB'] = df_otros['PIB'].map(lambda x: x.replace(\"'\", \"\"))\n",
    "# ERROR: tenemos valores nulos\n",
    "df_otros['PIB'] = df_otros['PIB'].astype(int)\n",
    "\n",
    "df_otros.info()"
   ]
  },
  {
   "cell_type": "markdown",
   "metadata": {},
   "source": [
    "### Joins\n",
    "\n",
    "Las siguientes líneas nos van a servir para hacer `merge` entre los _datasets_. El objetivo es hacer solo un join, se debe escribir lo que falta para tener un solo dataframe que tenga una fila por país, con todos los datos. **IMPORTANTE** Muchas veces, cuando apliquemos técnicas de estadística o machine learning, vamos a buscar esta forma, en donde todas las entidades son un vector. \n",
    "\n",
    "**Consejo**: una vez que hagas los joins, te aconsejamos quedarte solo con ['Nombre', 'POBLACIÓN', 'PIB', 'ALFABETIZACION', 'TELEFONOS']. \n",
    "\n"
   ]
  },
  {
   "cell_type": "code",
   "execution_count": 5,
   "metadata": {},
   "outputs": [
    {
     "data": {
      "text/html": [
       "<div>\n",
       "<style scoped>\n",
       "    .dataframe tbody tr th:only-of-type {\n",
       "        vertical-align: middle;\n",
       "    }\n",
       "\n",
       "    .dataframe tbody tr th {\n",
       "        vertical-align: top;\n",
       "    }\n",
       "\n",
       "    .dataframe thead th {\n",
       "        text-align: right;\n",
       "    }\n",
       "</style>\n",
       "<table border=\"1\" class=\"dataframe\">\n",
       "  <thead>\n",
       "    <tr style=\"text-align: right;\">\n",
       "      <th></th>\n",
       "      <th>cod_pais</th>\n",
       "      <th>nombre_pais</th>\n",
       "      <th>POBLACION</th>\n",
       "      <th>PIB</th>\n",
       "      <th>ALFABETIZACION</th>\n",
       "      <th>TELEFONOS</th>\n",
       "    </tr>\n",
       "  </thead>\n",
       "  <tbody>\n",
       "    <tr>\n",
       "      <th>0</th>\n",
       "      <td>0</td>\n",
       "      <td>Afghanistan</td>\n",
       "      <td>31056997</td>\n",
       "      <td>700</td>\n",
       "      <td>36.0</td>\n",
       "      <td>3.2</td>\n",
       "    </tr>\n",
       "    <tr>\n",
       "      <th>1</th>\n",
       "      <td>1</td>\n",
       "      <td>Albania</td>\n",
       "      <td>3581655</td>\n",
       "      <td>4500</td>\n",
       "      <td>86.5</td>\n",
       "      <td>71.2</td>\n",
       "    </tr>\n",
       "    <tr>\n",
       "      <th>2</th>\n",
       "      <td>2</td>\n",
       "      <td>Algeria</td>\n",
       "      <td>32930091</td>\n",
       "      <td>6000</td>\n",
       "      <td>70.0</td>\n",
       "      <td>78.1</td>\n",
       "    </tr>\n",
       "    <tr>\n",
       "      <th>3</th>\n",
       "      <td>3</td>\n",
       "      <td>American Samoa</td>\n",
       "      <td>57794</td>\n",
       "      <td>8000</td>\n",
       "      <td>97.0</td>\n",
       "      <td>259.5</td>\n",
       "    </tr>\n",
       "    <tr>\n",
       "      <th>4</th>\n",
       "      <td>4</td>\n",
       "      <td>Andorra</td>\n",
       "      <td>71201</td>\n",
       "      <td>19000</td>\n",
       "      <td>100.0</td>\n",
       "      <td>497.2</td>\n",
       "    </tr>\n",
       "  </tbody>\n",
       "</table>\n",
       "</div>"
      ],
      "text/plain": [
       "   cod_pais     nombre_pais  POBLACION    PIB  ALFABETIZACION  TELEFONOS\n",
       "0         0     Afghanistan   31056997    700            36.0        3.2\n",
       "1         1         Albania    3581655   4500            86.5       71.2\n",
       "2         2         Algeria   32930091   6000            70.0       78.1\n",
       "3         3  American Samoa      57794   8000            97.0      259.5\n",
       "4         4         Andorra      71201  19000           100.0      497.2"
      ]
     },
     "execution_count": 5,
     "metadata": {},
     "output_type": "execute_result"
    }
   ],
   "source": [
    "df_extended = df_codigos.merge(df_poblacion, left_on='cod_pais', right_on='CODIGO')\n",
    "df_extended = df_extended.merge(df_otros, left_on='cod_pais', right_on='COD_PAIS')\n",
    "\n",
    "df_extended = df_extended[['cod_pais', 'nombre_pais', 'POBLACION', 'PIB', 'ALFABETIZACION', 'TELEFONOS']]\n",
    "df_extended.head()"
   ]
  },
  {
   "cell_type": "code",
   "execution_count": 6,
   "metadata": {},
   "outputs": [
    {
     "name": "stdout",
     "output_type": "stream",
     "text": [
      "<class 'pandas.core.frame.DataFrame'>\n",
      "Int64Index: 206 entries, 0 to 205\n",
      "Data columns (total 6 columns):\n",
      " #   Column          Non-Null Count  Dtype  \n",
      "---  ------          --------------  -----  \n",
      " 0   cod_pais        206 non-null    int64  \n",
      " 1   nombre_pais     206 non-null    object \n",
      " 2   POBLACION       206 non-null    int64  \n",
      " 3   PIB             206 non-null    int32  \n",
      " 4   ALFABETIZACION  206 non-null    float64\n",
      " 5   TELEFONOS       206 non-null    float64\n",
      "dtypes: float64(2), int32(1), int64(2), object(1)\n",
      "memory usage: 10.5+ KB\n"
     ]
    }
   ],
   "source": [
    "df_extended.info()"
   ]
  },
  {
   "cell_type": "markdown",
   "metadata": {},
   "source": [
    "Y ahora vamos a hacer un gráfico interactivo donde se vea el PIB en función del nivel de alfabetización. ¿Qué se podría esperar?"
   ]
  },
  {
   "cell_type": "code",
   "execution_count": 7,
   "metadata": {},
   "outputs": [
    {
     "data": {
      "text/plain": [
       "Text(0, 0.5, 'Alfabetización (%)')"
      ]
     },
     "execution_count": 7,
     "metadata": {},
     "output_type": "execute_result"
    },
    {
     "data": {
      "image/png": "[encoded data removed]",
      "text/plain": [
       "<Figure size 432x288 with 1 Axes>"
      ]
     },
     "metadata": {
      "needs_background": "light"
     },
     "output_type": "display_data"
    }
   ],
   "source": [
    "import matplotlib.pyplot as plt\n",
    "\n",
    "fig = plt.figure()\n",
    "ax = fig.add_axes([0,0,1,1])\n",
    "ax.scatter(df_extended['PIB'], df_extended['ALFABETIZACION'])\n",
    "ax.set_xlabel('PIB ')\n",
    "ax.set_ylabel('Alfabetización (%)')\n"
   ]
  },
  {
   "cell_type": "markdown",
   "metadata": {},
   "source": [
    "¿Cál es el outlier?"
   ]
  },
  {
   "cell_type": "code",
   "execution_count": 8,
   "metadata": {},
   "outputs": [
    {
     "data": {
      "text/html": [
       "<div>\n",
       "<style scoped>\n",
       "    .dataframe tbody tr th:only-of-type {\n",
       "        vertical-align: middle;\n",
       "    }\n",
       "\n",
       "    .dataframe tbody tr th {\n",
       "        vertical-align: top;\n",
       "    }\n",
       "\n",
       "    .dataframe thead th {\n",
       "        text-align: right;\n",
       "    }\n",
       "</style>\n",
       "<table border=\"1\" class=\"dataframe\">\n",
       "  <thead>\n",
       "    <tr style=\"text-align: right;\">\n",
       "      <th></th>\n",
       "      <th>cod_pais</th>\n",
       "      <th>nombre_pais</th>\n",
       "      <th>POBLACION</th>\n",
       "      <th>PIB</th>\n",
       "      <th>ALFABETIZACION</th>\n",
       "      <th>TELEFONOS</th>\n",
       "    </tr>\n",
       "  </thead>\n",
       "  <tbody>\n",
       "    <tr>\n",
       "      <th>110</th>\n",
       "      <td>121</td>\n",
       "      <td>Luxembourg</td>\n",
       "      <td>474413</td>\n",
       "      <td>55100</td>\n",
       "      <td>100.0</td>\n",
       "      <td>515.4</td>\n",
       "    </tr>\n",
       "  </tbody>\n",
       "</table>\n",
       "</div>"
      ],
      "text/plain": [
       "     cod_pais nombre_pais  POBLACION    PIB  ALFABETIZACION  TELEFONOS\n",
       "110       121  Luxembourg     474413  55100           100.0      515.4"
      ]
     },
     "execution_count": 8,
     "metadata": {},
     "output_type": "execute_result"
    }
   ],
   "source": [
    "outlier = df_extended[df_extended['PIB'] == df_extended['PIB'].max()]\n",
    "outlier"
   ]
  },
  {
   "cell_type": "markdown",
   "metadata": {},
   "source": [
    "## Entrenamiento/Predicción\n",
    "\n",
    "Queremos predecir el nivel de mortalidad infantil a partir del nivel de alfabetización del país."
   ]
  },
  {
   "cell_type": "code",
   "execution_count": 9,
   "metadata": {},
   "outputs": [
    {
     "name": "stdout",
     "output_type": "stream",
     "text": [
      "<class 'pandas.core.frame.DataFrame'>\n",
      "Int64Index: 204 entries, 0 to 205\n",
      "Data columns (total 8 columns):\n",
      " #   Column               Non-Null Count  Dtype  \n",
      "---  ------               --------------  -----  \n",
      " 0   cod_pais             204 non-null    int64  \n",
      " 1   nombre_pais          204 non-null    object \n",
      " 2   POBLACION            204 non-null    int64  \n",
      " 3   PIB                  204 non-null    int32  \n",
      " 4   ALFABETIZACION       204 non-null    float64\n",
      " 5   TELEFONOS            204 non-null    float64\n",
      " 6   CODIGO               204 non-null    int64  \n",
      " 7   MORTALIDAD INFANTIL  204 non-null    float64\n",
      "dtypes: float64(3), int32(1), int64(3), object(1)\n",
      "memory usage: 13.5+ KB\n"
     ]
    }
   ],
   "source": [
    "# Cargamos dataset de mortalidad infantil y lo agregamos a nuestro dataframe.\n",
    "df_mortalidad = pd.read_csv(\"Mortalidad Infantil.csv\", delimiter=',')\n",
    "df_extended = df_extended.merge(df_mortalidad, left_on='cod_pais', right_on='CODIGO').dropna()\n",
    "df_extended.info()"
   ]
  },
  {
   "cell_type": "code",
   "execution_count": 43,
   "metadata": {},
   "outputs": [
    {
     "name": "stdout",
     "output_type": "stream",
     "text": [
      "(173, 1)\n",
      "(31, 1)\n"
     ]
    }
   ],
   "source": [
    "from sklearn import datasets, linear_model\n",
    "from sklearn.model_selection import train_test_split\n",
    "from sklearn.preprocessing import PolynomialFeatures\n",
    "from sklearn.pipeline import make_pipeline\n",
    "from sklearn.metrics import mean_squared_error, r2_score\n",
    "\n",
    "# Creamos regresión de grado 9.\n",
    "poly_features = PolynomialFeatures(degree=9, include_bias=False)\n",
    "regr = make_pipeline(poly_features, linear_model.LinearRegression())\n",
    "\n",
    "# Separamos nuestros datos en set de train y test (y el de validación(?))\n",
    "X_train, X_test, y_train, y_test = train_test_split(df_extended[['ALFABETIZACION']], df_extended['MORTALIDAD INFANTIL'], test_size=0.15, shuffle=True)\n",
    "print(X_train.shape)\n",
    "print(X_test.shape)"
   ]
  },
  {
   "cell_type": "markdown",
   "metadata": {},
   "source": [
    "### Recordatorio métricas\n",
    "\n",
    "$$\\text{MSE} = \\frac{1}{n} \\sum_{1 \\leq i \\leq n} (y_i - \\beta^T\\bar x^i)^2$$\n",
    "\n",
    "El coeficiente r^2 corresponde a la suma de los errores, dividido por la diferencia entre cada punto y su media. \n",
    "\n",
    "$$r^2 = 1 - \\frac{\\sum_{1 \\leq i \\leq n} (y_i - \\beta^T\\bar x^i)^2}{\\sum_{1 \\leq i \\leq n} (y_i - \\bar y)^2},$$\n",
    "\n",
    "donde $$\\bar y = \\frac{\\sum_{1 \\leq i \\leq n} y_i}{n}$$\n",
    "\n",
    "¿Nos sirven para datos categóricos?"
   ]
  },
  {
   "cell_type": "code",
   "execution_count": 44,
   "metadata": {},
   "outputs": [
    {
     "name": "stdout",
     "output_type": "stream",
     "text": [
      "1) r2 score (train): 0.622478\n",
      "2) r2 socre (test): 0.356844\n"
     ]
    }
   ],
   "source": [
    "# Entrenemos..\n",
    "regr.fit(X_train, y_train)\n",
    "\n",
    "# Veamos como nos fue..\n",
    "regr_pred = regr.predict(X_train)\n",
    "# Calculamos el r^2\n",
    "print('1) r2 score (train): %f'\n",
    "      % r2_score(y_train, regr_pred))\n",
    "\n",
    "# Ahora como nos fue con el set de test...\n",
    "regr_pred = regr.predict(X_test)\n",
    "print('2) r2 socre (test): %f'\n",
    "      % r2_score(y_test, regr_pred))\n",
    "\n",
    "# Son lógicos estos resultados?"
   ]
  },
  {
   "cell_type": "code",
   "execution_count": 45,
   "metadata": {},
   "outputs": [
    {
     "name": "stdout",
     "output_type": "stream",
     "text": [
      "Resultados para cada iteración: \n",
      "[0.58600579 0.62019103 0.57941119 0.53622148 0.61883219]\n",
      "\n",
      "Resultados generales: \n",
      "0.5881323355970192\n",
      "\n"
     ]
    }
   ],
   "source": [
    "# Veamos como nos va con cross_validation\n",
    "from sklearn.model_selection import cross_val_score\n",
    "\n",
    "# Hacemos cross_validation para 4 sets de validación distintos.\n",
    "# El set de validación es 'parte del set de train'.\n",
    "r2 = cross_val_score(regr, X_train, y_train, scoring='r2', cv=5)\n",
    "\n",
    "print(f'Resultados para cada iteración: \\n{r2}')\n",
    "print()\n",
    "\n",
    "print(f'Resultados generales: \\n{r2.mean()}')\n",
    "print()"
   ]
  },
  {
   "cell_type": "code",
   "execution_count": 68,
   "metadata": {},
   "outputs": [
    {
     "data": {
      "image/png": "[encoded data removed]",
      "text/plain": [
       "<Figure size 432x288 with 1 Axes>"
      ]
     },
     "metadata": {
      "needs_background": "light"
     },
     "output_type": "display_data"
    }
   ],
   "source": [
    "import numpy as np\n",
    "from sklearn.pipeline import Pipeline\n",
    "\n",
    "poly_features = PolynomialFeatures(degree=1, include_bias=False)\n",
    "simple_regr = make_pipeline(poly_features, linear_model.LinearRegression())\n",
    "\n",
    "X_train = X_train.iloc[:20,:]\n",
    "y_train = y_train.iloc[:20]\n",
    "simple_regr.fit(X_train, y_train)\n",
    "\n",
    "polynomial_features = PolynomialFeatures(degree=1, include_bias=False)\n",
    "regression = linear_model.LinearRegression()\n",
    "pipeline = Pipeline([(\"polynomial_features\", polynomial_features), (\"linear_regression\", regression)])\n",
    "pipeline.fit(X_train, y_train)\n",
    "#scores = cross_val_score(pipeline, X, Y, scoring=\"neg_mean_squared_error\", cv=10)\n",
    "\n",
    "plt.plot(X_train, pipeline.predict(X_train), color='orange', label=\"Model\")\n",
    "plt.plot(X_train, simple_regr.predict(X_train), label=\"True function\")\n",
    "plt.scatter(X_test, y_test, edgecolor='b', s=100)\n",
    "plt.xlabel(\"Superficie (m^2)\")\n",
    "plt.ylabel(\"Precio (UF)\")\n",
    "plt.legend(loc=\"best\")\n",
    "plt.show()"
   ]
  },
  {
   "cell_type": "markdown",
   "metadata": {},
   "source": [
    "Ahora entrena un predictor que según la cantidad de telefonos de un país nos entregue el nivel de mortalidad infantil."
   ]
  },
  {
   "cell_type": "code",
   "execution_count": null,
   "metadata": {},
   "outputs": [],
   "source": []
  }
 ],
 "metadata": {
  "kernelspec": {
   "display_name": "Python 3",
   "language": "python",
   "name": "python3"
  },
  "language_info": {
   "codemirror_mode": {
    "name": "ipython",
    "version": 3
   },
   "file_extension": ".py",
   "mimetype": "text/x-python",
   "name": "python",
   "nbconvert_exporter": "python",
   "pygments_lexer": "ipython3",
   "version": "3.7.7"
  }
 },
 "nbformat": 4,
 "nbformat_minor": 4
}
